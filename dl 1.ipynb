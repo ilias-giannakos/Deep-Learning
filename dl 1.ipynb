{
 "cells": [
  {
   "cell_type": "markdown",
   "metadata": {},
   "source": [
    "<h1>Deep Learning\n",
    "Assignment 1 - Fashion MNIST Dataset\n",
    "<h3>Ilias Giannakos - p3352007<br>\n",
    "Elena Adamidi - XXXX"
   ]
  },
  {
   "cell_type": "markdown",
   "metadata": {},
   "source": [
    "<h5> Import Necessary Libraries"
   ]
  },
  {
   "cell_type": "code",
   "execution_count": 1,
   "metadata": {},
   "outputs": [],
   "source": [
    "import tensorflow as tf\n",
    "from tensorflow.keras.datasets import fashion_mnist\n",
    "import matplotlib.pyplot as plt\n",
    "import numpy as np"
   ]
  },
  {
   "cell_type": "markdown",
   "metadata": {},
   "source": [
    "Set Seed for reproducibility"
   ]
  },
  {
   "cell_type": "code",
   "execution_count": 2,
   "metadata": {},
   "outputs": [],
   "source": [
    "from numpy.random import seed\n",
    "from tensorflow.random import set_seed\n",
    "seed(42)\n",
    "set_seed(42)"
   ]
  },
  {
   "cell_type": "markdown",
   "metadata": {},
   "source": [
    "<h5> Load Fashion MNIST dataset and check it has been loaded correctly"
   ]
  },
  {
   "cell_type": "code",
   "execution_count": 3,
   "metadata": {},
   "outputs": [],
   "source": [
    "(x_train, y_train), (x_test, y_test) = fashion_mnist.load_data()\n",
    "\n",
    "#check that fashion mnist has been loaded correctly\n",
    "assert x_train.shape == (60000, 28, 28)\n",
    "assert x_test.shape == (10000, 28, 28)\n",
    "assert y_train.shape == (60000,)\n",
    "assert y_test.shape == (10000,)"
   ]
  },
  {
   "cell_type": "markdown",
   "metadata": {},
   "source": [
    "<h5> Check the distribution of each label"
   ]
  },
  {
   "cell_type": "code",
   "execution_count": 4,
   "metadata": {},
   "outputs": [
    {
     "name": "stdout",
     "output_type": "stream",
     "text": [
      "[6000 6000 6000 6000 6000 6000 6000 6000 6000 6000]\n",
      "[1000 1000 1000 1000 1000 1000 1000 1000 1000 1000]\n"
     ]
    }
   ],
   "source": [
    "print(np.bincount(y_train))\n",
    "print(np.bincount(y_test))\n",
    "#train & test dataset is balanced (same number of occurencies between different clothes)"
   ]
  },
  {
   "cell_type": "markdown",
   "metadata": {},
   "source": [
    "<h5> Map labels to their original description"
   ]
  },
  {
   "cell_type": "code",
   "execution_count": 5,
   "metadata": {},
   "outputs": [
    {
     "name": "stdout",
     "output_type": "stream",
     "text": [
      "Total fashion mnist categories are 10\n"
     ]
    }
   ],
   "source": [
    "label_description = {0: \"T-shirt\",1: \"Trouser\",\n",
    "2: \"Pullover\", 3: \"Dress\", \n",
    "4: \"Coat\", 5:\"Sandal\",6:\"Shirt\",\n",
    "7:\"Sneaker\",8:\"Bag\",9:\"Ankle Boot\"}\n",
    "\n",
    "print(\"Total fashion mnist categories are\",len(label_description))"
   ]
  },
  {
   "cell_type": "markdown",
   "metadata": {},
   "source": [
    "<h5> Preprocessing"
   ]
  },
  {
   "cell_type": "code",
   "execution_count": 6,
   "metadata": {},
   "outputs": [],
   "source": [
    "#make y values categorical\n",
    "y_train = tf.keras.utils.to_categorical(y_train, len(label_description))\n",
    "y_test = tf.keras.utils.to_categorical(y_test, len(label_description))\n",
    "\n",
    "#normalize pixels\n",
    "x_train = (x_train.astype(\"float32\") / 255)\n",
    "x_test = (x_test.astype(\"float32\") / 255)\n",
    "\n",
    "#flatten the train data\n",
    "x_train = x_train.reshape(len(x_train),784)\n",
    "x_test = x_test.reshape(len(x_test),784)"
   ]
  },
  {
   "cell_type": "markdown",
   "metadata": {},
   "source": [
    "Map the one-hot-encoded y values back to human-readable descriptions"
   ]
  },
  {
   "cell_type": "code",
   "execution_count": 7,
   "metadata": {},
   "outputs": [
    {
     "name": "stdout",
     "output_type": "stream",
     "text": [
      "Y train vector of index 0 is: [0. 0. 0. 0. 0. 0. 0. 0. 0. 1.]\n",
      "Y train of index 0 original value is: 9\n"
     ]
    }
   ],
   "source": [
    "print(\"Y train vector of index 0 is:\",y_train[0])\n",
    "print(\"Y train of index 0 original value is:\",y_train.argmax())"
   ]
  },
  {
   "cell_type": "markdown",
   "metadata": {},
   "source": [
    "Visualize the data"
   ]
  },
  {
   "cell_type": "code",
   "execution_count": 8,
   "metadata": {},
   "outputs": [
    {
     "data": {
      "image/png": "[encoded data removed]",
      "text/plain": [
       "<Figure size 720x720 with 10 Axes>"
      ]
     },
     "metadata": {},
     "output_type": "display_data"
    }
   ],
   "source": [
    "plt.figure(figsize=(10,10))\n",
    "\n",
    "for i in range(10):\n",
    "    plt.subplot(5,5,i+1)\n",
    "    plt.xticks([])\n",
    "    plt.yticks([])\n",
    "    plt.grid(False)\n",
    "    pixels = x_train[i].reshape((28,28))\n",
    "    label = y_train[i].argmax() #with argmax we can get back the original value\n",
    "    \n",
    "    #plt.title('Label is {}'.format(label_description.get(label)))\n",
    "    plt.imshow(pixels, cmap='gray')\n",
    "    plt.xlabel(\"This is {}\".format(label_description.get(label)))\n",
    "\n",
    "plt.show()\n"
   ]
  },
  {
   "cell_type": "markdown",
   "metadata": {},
   "source": [
    "<h4>First model attempt (MLP)"
   ]
  },
  {
   "cell_type": "code",
   "execution_count": 9,
   "metadata": {},
   "outputs": [],
   "source": [
    "def create_model_mlp(num_hidden_layers: int, num_of_neurons: int, activation_hidden:str = \"relu\", optimizer = None, epochs:int = 100, dropout:int = None):\n",
    "    model = tf.keras.Sequential()\n",
    "    model.add(tf.keras.layers.Input(shape=784, name=\"Input layer\"))\n",
    "    for layer in range(num_hidden_layers-1):\n",
    "        model.add(tf.keras.layers.Dense(num_of_neurons, activation=activation_hidden))\n",
    "        if dropout:\n",
    "            model.add(tf.keras.layers.Dropout(dropout))\n",
    "    model.add(tf.keras.layers.Dense(int(num_of_neurons/2), activation=activation_hidden))\n",
    "    model.add(tf.keras.layers.Dense(len(label_description), activation=\"softmax\"))\n",
    "    opt = optimizer\n",
    "    model.compile(loss='categorical_crossentropy', optimizer= opt, metrics=['accuracy'])\n",
    "    return model\n",
    "    \n",
    "\n"
   ]
  },
  {
   "cell_type": "markdown",
   "metadata": {},
   "source": [
    "Default Values:"
   ]
  },
  {
   "cell_type": "code",
   "execution_count": 10,
   "metadata": {},
   "outputs": [],
   "source": [
    "epochs = 70\n",
    "batch_size = 64\n",
    "callbacks = tf.keras.callbacks.EarlyStopping(monitor=\"val_accuracy\",\n",
    "    min_delta=0,\n",
    "    patience=6,\n",
    "    verbose=0,\n",
    "    mode=\"auto\",\n",
    "    baseline=None,\n",
    "    restore_best_weights=True)"
   ]
  },
  {
   "cell_type": "code",
   "execution_count": 11,
   "metadata": {},
   "outputs": [],
   "source": [
    "#baseline model, 2 hidden layers, 128 & 64 neurons each layers & SGD optimizer\n",
    "model = create_model_mlp(num_hidden_layers =2 ,num_of_neurons=128, activation_hidden=\"relu\", optimizer=tf.keras.optimizers.SGD())"
   ]
  },
  {
   "cell_type": "code",
   "execution_count": 12,
   "metadata": {},
   "outputs": [
    {
     "name": "stdout",
     "output_type": "stream",
     "text": [
      "Epoch 1/70\n",
      "938/938 [==============================] - 3s 2ms/step - loss: 0.9030 - accuracy: 0.7149 - val_loss: 0.6604 - val_accuracy: 0.7565\n",
      "Epoch 2/70\n",
      "938/938 [==============================] - 2s 2ms/step - loss: 0.5503 - accuracy: 0.8119 - val_loss: 0.5470 - val_accuracy: 0.8067\n",
      "Epoch 3/70\n",
      "938/938 [==============================] - 2s 2ms/step - loss: 0.4897 - accuracy: 0.8291 - val_loss: 0.4992 - val_accuracy: 0.8218\n",
      "Epoch 4/70\n",
      "938/938 [==============================] - 2s 2ms/step - loss: 0.4596 - accuracy: 0.8396 - val_loss: 0.4764 - val_accuracy: 0.8309\n",
      "Epoch 5/70\n",
      "938/938 [==============================] - 2s 2ms/step - loss: 0.4396 - accuracy: 0.8438 - val_loss: 0.4984 - val_accuracy: 0.8197\n",
      "Epoch 6/70\n",
      "938/938 [==============================] - 2s 2ms/step - loss: 0.4235 - accuracy: 0.8499 - val_loss: 0.4653 - val_accuracy: 0.8378\n",
      "Epoch 7/70\n",
      "938/938 [==============================] - 2s 2ms/step - loss: 0.4113 - accuracy: 0.8565 - val_loss: 0.4705 - val_accuracy: 0.8316\n",
      "Epoch 8/70\n",
      "938/938 [==============================] - 2s 2ms/step - loss: 0.4000 - accuracy: 0.8601 - val_loss: 0.4258 - val_accuracy: 0.8509\n",
      "Epoch 9/70\n",
      "938/938 [==============================] - 2s 2ms/step - loss: 0.3911 - accuracy: 0.8623 - val_loss: 0.4224 - val_accuracy: 0.8504\n",
      "Epoch 10/70\n",
      "938/938 [==============================] - 2s 2ms/step - loss: 0.3820 - accuracy: 0.8651 - val_loss: 0.4249 - val_accuracy: 0.8484\n",
      "Epoch 11/70\n",
      "938/938 [==============================] - 2s 2ms/step - loss: 0.3739 - accuracy: 0.8677 - val_loss: 0.4152 - val_accuracy: 0.8545\n",
      "Epoch 12/70\n",
      "938/938 [==============================] - 2s 2ms/step - loss: 0.3681 - accuracy: 0.8693 - val_loss: 0.4029 - val_accuracy: 0.8588\n",
      "Epoch 13/70\n",
      "938/938 [==============================] - 2s 2ms/step - loss: 0.3605 - accuracy: 0.8727 - val_loss: 0.4007 - val_accuracy: 0.8581\n",
      "Epoch 14/70\n",
      "938/938 [==============================] - 2s 2ms/step - loss: 0.3562 - accuracy: 0.8742 - val_loss: 0.4076 - val_accuracy: 0.8578\n",
      "Epoch 15/70\n",
      "938/938 [==============================] - 2s 2ms/step - loss: 0.3494 - accuracy: 0.8761 - val_loss: 0.3926 - val_accuracy: 0.8605\n",
      "Epoch 16/70\n",
      "938/938 [==============================] - 2s 2ms/step - loss: 0.3452 - accuracy: 0.8778 - val_loss: 0.4266 - val_accuracy: 0.8488\n",
      "Epoch 17/70\n",
      "938/938 [==============================] - 2s 2ms/step - loss: 0.3398 - accuracy: 0.8794 - val_loss: 0.3823 - val_accuracy: 0.8634\n",
      "Epoch 18/70\n",
      "938/938 [==============================] - 2s 2ms/step - loss: 0.3357 - accuracy: 0.8810 - val_loss: 0.3958 - val_accuracy: 0.8600\n",
      "Epoch 19/70\n",
      "938/938 [==============================] - 2s 2ms/step - loss: 0.3304 - accuracy: 0.8817 - val_loss: 0.3774 - val_accuracy: 0.8661\n",
      "Epoch 20/70\n",
      "938/938 [==============================] - 2s 2ms/step - loss: 0.3265 - accuracy: 0.8840 - val_loss: 0.3850 - val_accuracy: 0.8657\n",
      "Epoch 21/70\n",
      "938/938 [==============================] - 2s 2ms/step - loss: 0.3219 - accuracy: 0.8860 - val_loss: 0.3742 - val_accuracy: 0.8661\n",
      "Epoch 22/70\n",
      "938/938 [==============================] - 2s 2ms/step - loss: 0.3169 - accuracy: 0.8877 - val_loss: 0.3713 - val_accuracy: 0.8698\n",
      "Epoch 23/70\n",
      "938/938 [==============================] - 2s 2ms/step - loss: 0.3139 - accuracy: 0.8887 - val_loss: 0.3606 - val_accuracy: 0.8720\n",
      "Epoch 24/70\n",
      "938/938 [==============================] - 2s 2ms/step - loss: 0.3100 - accuracy: 0.8894 - val_loss: 0.3700 - val_accuracy: 0.8692\n",
      "Epoch 25/70\n",
      "938/938 [==============================] - 2s 2ms/step - loss: 0.3072 - accuracy: 0.8905 - val_loss: 0.3722 - val_accuracy: 0.8656\n",
      "Epoch 26/70\n",
      "938/938 [==============================] - 2s 2ms/step - loss: 0.3038 - accuracy: 0.8912 - val_loss: 0.3949 - val_accuracy: 0.8534\n",
      "Epoch 27/70\n",
      "938/938 [==============================] - 2s 2ms/step - loss: 0.3001 - accuracy: 0.8924 - val_loss: 0.3777 - val_accuracy: 0.8634\n",
      "Epoch 28/70\n",
      "938/938 [==============================] - 2s 2ms/step - loss: 0.2961 - accuracy: 0.8949 - val_loss: 0.3540 - val_accuracy: 0.8746\n",
      "Epoch 29/70\n",
      "938/938 [==============================] - 2s 3ms/step - loss: 0.2936 - accuracy: 0.8945 - val_loss: 0.3523 - val_accuracy: 0.8758\n",
      "Epoch 30/70\n",
      "938/938 [==============================] - 2s 2ms/step - loss: 0.2917 - accuracy: 0.8956 - val_loss: 0.3874 - val_accuracy: 0.8599\n",
      "Epoch 31/70\n",
      "938/938 [==============================] - 2s 2ms/step - loss: 0.2876 - accuracy: 0.8975 - val_loss: 0.3541 - val_accuracy: 0.8759\n",
      "Epoch 32/70\n",
      "938/938 [==============================] - 2s 2ms/step - loss: 0.2851 - accuracy: 0.8992 - val_loss: 0.3495 - val_accuracy: 0.8770\n",
      "Epoch 33/70\n",
      "938/938 [==============================] - 2s 2ms/step - loss: 0.2825 - accuracy: 0.8985 - val_loss: 0.3587 - val_accuracy: 0.8735\n",
      "Epoch 34/70\n",
      "938/938 [==============================] - 2s 2ms/step - loss: 0.2799 - accuracy: 0.8992 - val_loss: 0.3621 - val_accuracy: 0.8701\n",
      "Epoch 35/70\n",
      "938/938 [==============================] - 2s 2ms/step - loss: 0.2769 - accuracy: 0.9011 - val_loss: 0.3490 - val_accuracy: 0.8754\n",
      "Epoch 36/70\n",
      "938/938 [==============================] - 2s 2ms/step - loss: 0.2740 - accuracy: 0.9015 - val_loss: 0.3507 - val_accuracy: 0.8735\n",
      "Epoch 37/70\n",
      "938/938 [==============================] - 2s 2ms/step - loss: 0.2720 - accuracy: 0.9029 - val_loss: 0.3557 - val_accuracy: 0.8739\n",
      "Epoch 38/70\n",
      "938/938 [==============================] - 2s 2ms/step - loss: 0.2696 - accuracy: 0.9033 - val_loss: 0.3405 - val_accuracy: 0.8794\n",
      "Epoch 39/70\n",
      "938/938 [==============================] - 2s 2ms/step - loss: 0.2671 - accuracy: 0.9042 - val_loss: 0.3427 - val_accuracy: 0.8783\n",
      "Epoch 40/70\n",
      "938/938 [==============================] - 2s 2ms/step - loss: 0.2647 - accuracy: 0.9058 - val_loss: 0.3502 - val_accuracy: 0.8734\n",
      "Epoch 41/70\n",
      "938/938 [==============================] - 2s 2ms/step - loss: 0.2627 - accuracy: 0.9069 - val_loss: 0.3483 - val_accuracy: 0.8778\n",
      "Epoch 42/70\n",
      "938/938 [==============================] - 2s 2ms/step - loss: 0.2600 - accuracy: 0.9068 - val_loss: 0.3423 - val_accuracy: 0.8776\n",
      "Epoch 43/70\n",
      "938/938 [==============================] - 2s 2ms/step - loss: 0.2576 - accuracy: 0.9076 - val_loss: 0.3364 - val_accuracy: 0.8806\n",
      "Epoch 44/70\n",
      "938/938 [==============================] - 2s 2ms/step - loss: 0.2560 - accuracy: 0.9085 - val_loss: 0.3559 - val_accuracy: 0.8734\n",
      "Epoch 45/70\n",
      "938/938 [==============================] - 2s 2ms/step - loss: 0.2532 - accuracy: 0.9091 - val_loss: 0.3483 - val_accuracy: 0.8742\n",
      "Epoch 46/70\n",
      "938/938 [==============================] - 2s 2ms/step - loss: 0.2516 - accuracy: 0.9104 - val_loss: 0.3423 - val_accuracy: 0.8767\n",
      "Epoch 47/70\n",
      "938/938 [==============================] - 2s 2ms/step - loss: 0.2504 - accuracy: 0.9106 - val_loss: 0.3497 - val_accuracy: 0.8780\n",
      "Epoch 48/70\n",
      "938/938 [==============================] - 2s 2ms/step - loss: 0.2478 - accuracy: 0.9105 - val_loss: 0.3340 - val_accuracy: 0.8809\n",
      "Epoch 49/70\n",
      "938/938 [==============================] - 2s 2ms/step - loss: 0.2448 - accuracy: 0.9127 - val_loss: 0.3498 - val_accuracy: 0.8810\n",
      "Epoch 50/70\n",
      "938/938 [==============================] - 2s 2ms/step - loss: 0.2440 - accuracy: 0.9136 - val_loss: 0.3372 - val_accuracy: 0.8812\n",
      "Epoch 51/70\n",
      "938/938 [==============================] - 2s 2ms/step - loss: 0.2417 - accuracy: 0.9144 - val_loss: 0.3401 - val_accuracy: 0.8810\n",
      "Epoch 52/70\n",
      "938/938 [==============================] - 2s 2ms/step - loss: 0.2402 - accuracy: 0.9138 - val_loss: 0.3359 - val_accuracy: 0.8822\n",
      "Epoch 53/70\n",
      "938/938 [==============================] - 2s 2ms/step - loss: 0.2378 - accuracy: 0.9153 - val_loss: 0.3315 - val_accuracy: 0.8846\n",
      "Epoch 54/70\n",
      "938/938 [==============================] - 2s 2ms/step - loss: 0.2357 - accuracy: 0.9164 - val_loss: 0.3344 - val_accuracy: 0.8818\n",
      "Epoch 55/70\n",
      "938/938 [==============================] - 2s 2ms/step - loss: 0.2343 - accuracy: 0.9159 - val_loss: 0.3407 - val_accuracy: 0.8822\n",
      "Epoch 56/70\n",
      "938/938 [==============================] - 2s 2ms/step - loss: 0.2333 - accuracy: 0.9179 - val_loss: 0.3468 - val_accuracy: 0.8806\n",
      "Epoch 57/70\n",
      "938/938 [==============================] - 2s 2ms/step - loss: 0.2307 - accuracy: 0.9188 - val_loss: 0.3287 - val_accuracy: 0.8834\n",
      "Epoch 58/70\n",
      "938/938 [==============================] - 2s 2ms/step - loss: 0.2288 - accuracy: 0.9186 - val_loss: 0.3489 - val_accuracy: 0.8790\n",
      "Epoch 59/70\n",
      "938/938 [==============================] - 2s 2ms/step - loss: 0.2267 - accuracy: 0.9197 - val_loss: 0.3511 - val_accuracy: 0.8749\n"
     ]
    }
   ],
   "source": [
    "history = model.fit(\n",
    "    x_train, y_train, epochs=epochs, batch_size=batch_size, callbacks=callbacks, validation_data = (x_test, y_test)\n",
    ")"
   ]
  },
  {
   "cell_type": "code",
   "execution_count": 13,
   "metadata": {},
   "outputs": [
    {
     "name": "stdout",
     "output_type": "stream",
     "text": [
      "0.8845999836921692\n"
     ]
    }
   ],
   "source": [
    "print(history.history.get(\"val_accuracy\")[-7])"
   ]
  },
  {
   "cell_type": "code",
   "execution_count": 14,
   "metadata": {},
   "outputs": [
    {
     "data": {
      "image/png": "[encoded data removed]",
      "text/plain": [
       "<Figure size 576x432 with 1 Axes>"
      ]
     },
     "metadata": {
      "needs_background": "light"
     },
     "output_type": "display_data"
    }
   ],
   "source": [
    "plt.figure(figsize=(8, 6))\n",
    "plt.plot(history.history['accuracy'])\n",
    "plt.plot(history.history['val_accuracy'])\n",
    "plt.title('Model Accuracy')\n",
    "plt.ylabel('Accuracy')\n",
    "plt.xlabel('Epoch')\n",
    "plt.legend(['train', 'test'], loc='upper left')\n",
    "plt.show()"
   ]
  },
  {
   "cell_type": "code",
   "execution_count": 37,
   "metadata": {},
   "outputs": [],
   "source": [
    "#baseline model, 2 hidden layers, 128 & 64 neurons each layers & Adam optimizer\n",
    "model2 = create_model_mlp(num_hidden_layers = 2 ,num_of_neurons=128, activation_hidden=\"relu\", optimizer=tf.keras.optimizers.Adam())\n",
    "history2 = model2.fit(\n",
    "    x_train, y_train, epochs=epochs, batch_size=batch_size, callbacks=callbacks, validation_data = (x_test, y_test)\n",
    ")\n",
    "\n",
    "print(\"Test accuracy is \",model2.evaluate(x_test,y_test)[1])\n"
   ]
  },
  {
   "cell_type": "markdown",
   "metadata": {},
   "source": [
    "As we observe, Adam optimizer achieves better performance (0.89 val accuracy) while taking much less epochs to converge."
   ]
  },
  {
   "cell_type": "code",
   "execution_count": 17,
   "metadata": {},
   "outputs": [
    {
     "name": "stdout",
     "output_type": "stream",
     "text": [
      "Epoch 1/70\n",
      "938/938 [==============================] - 3s 3ms/step - loss: 0.5228 - accuracy: 0.8124 - val_loss: 0.4545 - val_accuracy: 0.8320\n",
      "Epoch 2/70\n",
      "938/938 [==============================] - 2s 3ms/step - loss: 0.3761 - accuracy: 0.8613 - val_loss: 0.4423 - val_accuracy: 0.8430\n",
      "Epoch 3/70\n",
      "938/938 [==============================] - 2s 3ms/step - loss: 0.3418 - accuracy: 0.8745 - val_loss: 0.3754 - val_accuracy: 0.8673\n",
      "Epoch 4/70\n",
      "938/938 [==============================] - 2s 3ms/step - loss: 0.3157 - accuracy: 0.8832 - val_loss: 0.3535 - val_accuracy: 0.8745\n",
      "Epoch 5/70\n",
      "938/938 [==============================] - 3s 3ms/step - loss: 0.3015 - accuracy: 0.8870 - val_loss: 0.3414 - val_accuracy: 0.8769\n",
      "Epoch 6/70\n",
      "938/938 [==============================] - 2s 3ms/step - loss: 0.2859 - accuracy: 0.8931 - val_loss: 0.3810 - val_accuracy: 0.8619\n",
      "Epoch 7/70\n",
      "938/938 [==============================] - 2s 2ms/step - loss: 0.2754 - accuracy: 0.8970 - val_loss: 0.3531 - val_accuracy: 0.8750\n",
      "Epoch 8/70\n",
      "938/938 [==============================] - 2s 3ms/step - loss: 0.2615 - accuracy: 0.9025 - val_loss: 0.3372 - val_accuracy: 0.8838\n",
      "Epoch 9/70\n",
      "938/938 [==============================] - 3s 3ms/step - loss: 0.2523 - accuracy: 0.9055 - val_loss: 0.3249 - val_accuracy: 0.8860\n",
      "Epoch 10/70\n",
      "938/938 [==============================] - 2s 3ms/step - loss: 0.2449 - accuracy: 0.9073 - val_loss: 0.3256 - val_accuracy: 0.8831\n",
      "Epoch 11/70\n",
      "938/938 [==============================] - 2s 3ms/step - loss: 0.2358 - accuracy: 0.9100 - val_loss: 0.3267 - val_accuracy: 0.8861\n",
      "Epoch 12/70\n",
      "938/938 [==============================] - 3s 3ms/step - loss: 0.2284 - accuracy: 0.9143 - val_loss: 0.3653 - val_accuracy: 0.8748\n",
      "Epoch 13/70\n",
      "938/938 [==============================] - 3s 3ms/step - loss: 0.2218 - accuracy: 0.9165 - val_loss: 0.3409 - val_accuracy: 0.8854\n",
      "Epoch 14/70\n",
      "938/938 [==============================] - 3s 3ms/step - loss: 0.2130 - accuracy: 0.9188 - val_loss: 0.3413 - val_accuracy: 0.8914\n",
      "Epoch 15/70\n",
      "938/938 [==============================] - 3s 3ms/step - loss: 0.2072 - accuracy: 0.9221 - val_loss: 0.3383 - val_accuracy: 0.8847\n",
      "Epoch 16/70\n",
      "938/938 [==============================] - 3s 3ms/step - loss: 0.2030 - accuracy: 0.9223 - val_loss: 0.3528 - val_accuracy: 0.8841\n",
      "Epoch 17/70\n",
      "938/938 [==============================] - 2s 3ms/step - loss: 0.1965 - accuracy: 0.9251 - val_loss: 0.3591 - val_accuracy: 0.8861\n",
      "Epoch 18/70\n",
      "938/938 [==============================] - 2s 3ms/step - loss: 0.1916 - accuracy: 0.9267 - val_loss: 0.3501 - val_accuracy: 0.8881\n",
      "Epoch 19/70\n",
      "938/938 [==============================] - 3s 3ms/step - loss: 0.1867 - accuracy: 0.9289 - val_loss: 0.3658 - val_accuracy: 0.8837\n",
      "Epoch 20/70\n",
      "938/938 [==============================] - 2s 3ms/step - loss: 0.1820 - accuracy: 0.9312 - val_loss: 0.3651 - val_accuracy: 0.8814\n"
     ]
    }
   ],
   "source": [
    "#We now try with 5 hidden layers, 128x4 each layer + 64 neurons on last & Adam optimizer\n",
    "model3 = create_model_mlp(num_hidden_layers = 5 ,num_of_neurons=128, activation_hidden=\"relu\", optimizer=tf.keras.optimizers.Adam())\n",
    "history = model3.fit(\n",
    "    x_train, y_train, epochs=epochs, batch_size=batch_size, callbacks=callbacks, validation_data = (x_test, y_test)\n",
    ")"
   ]
  },
  {
   "cell_type": "code",
   "execution_count": 28,
   "metadata": {},
   "outputs": [
    {
     "name": "stdout",
     "output_type": "stream",
     "text": [
      "313/313 [==============================] - 0s 2ms/step - loss: 0.3413 - accuracy: 0.8914\n",
      "0.8913999795913696\n"
     ]
    }
   ],
   "source": [
    "_, val_accuracy = model3.evaluate(x_test,y_test)\n",
    "print(val_accuracy)"
   ]
  },
  {
   "cell_type": "code",
   "execution_count": 40,
   "metadata": {},
   "outputs": [
    {
     "name": "stdout",
     "output_type": "stream",
     "text": [
      "the model with 3 extra layers has less val accuracy than the previous with 2 hidden (0.891700029373169), therefore we discard it\n"
     ]
    }
   ],
   "source": [
    "print(\"the model with 3 extra layers has less val accuracy than the previous with 2 hidden ({}), therefore we discard it\".format(model2.evaluate(x_test,y_test, verbose=0)[1]))"
   ]
  },
  {
   "cell_type": "code",
   "execution_count": 41,
   "metadata": {},
   "outputs": [
    {
     "name": "stdout",
     "output_type": "stream",
     "text": [
      "probability distribution of each class [2.9640861e-09 1.0522056e-08 6.0551407e-08 1.8629486e-08 2.1946784e-09\n",
      " 1.3962332e-06 1.7591779e-08 3.7082478e-03 2.9150449e-09 9.9629021e-01]\n",
      "Model predicts this is Ankle Boot and the true label is Ankle Boot\n"
     ]
    }
   ],
   "source": [
    "predictions = model2.predict(x_test)\n",
    "print(\"probability distribution of each class\", predictions[0]) \n",
    "print(\"Model predicts this is\",label_description.get(np.argmax(predictions[0])), \"and the true label is\", label_description.get(np.argmax(y_test[0])))"
   ]
  },
  {
   "cell_type": "code",
   "execution_count": 43,
   "metadata": {},
   "outputs": [
    {
     "name": "stdout",
     "output_type": "stream",
     "text": [
      "Epoch 1/70\n",
      "938/938 [==============================] - 3s 3ms/step - loss: 0.5313 - accuracy: 0.8105 - val_loss: 0.4346 - val_accuracy: 0.8401\n",
      "Epoch 2/70\n",
      "938/938 [==============================] - 2s 2ms/step - loss: 0.3880 - accuracy: 0.8588 - val_loss: 0.4078 - val_accuracy: 0.8527\n",
      "Epoch 3/70\n",
      "938/938 [==============================] - 2s 2ms/step - loss: 0.3547 - accuracy: 0.8706 - val_loss: 0.3705 - val_accuracy: 0.8666\n",
      "Epoch 4/70\n",
      "938/938 [==============================] - 2s 2ms/step - loss: 0.3298 - accuracy: 0.8783 - val_loss: 0.3534 - val_accuracy: 0.8706\n",
      "Epoch 5/70\n",
      "938/938 [==============================] - 2s 2ms/step - loss: 0.3151 - accuracy: 0.8831 - val_loss: 0.3441 - val_accuracy: 0.8769\n",
      "Epoch 6/70\n",
      "938/938 [==============================] - 2s 2ms/step - loss: 0.3005 - accuracy: 0.8875 - val_loss: 0.3568 - val_accuracy: 0.8715\n",
      "Epoch 7/70\n",
      "938/938 [==============================] - 2s 2ms/step - loss: 0.2892 - accuracy: 0.8927 - val_loss: 0.3550 - val_accuracy: 0.8705\n",
      "Epoch 8/70\n",
      "938/938 [==============================] - 2s 2ms/step - loss: 0.2788 - accuracy: 0.8972 - val_loss: 0.3426 - val_accuracy: 0.8740\n",
      "Epoch 9/70\n",
      "938/938 [==============================] - 3s 3ms/step - loss: 0.2740 - accuracy: 0.8972 - val_loss: 0.3288 - val_accuracy: 0.8843\n",
      "Epoch 10/70\n",
      "938/938 [==============================] - 2s 2ms/step - loss: 0.2651 - accuracy: 0.8997 - val_loss: 0.3283 - val_accuracy: 0.8831\n",
      "Epoch 11/70\n",
      "938/938 [==============================] - 2s 2ms/step - loss: 0.2602 - accuracy: 0.9017 - val_loss: 0.3340 - val_accuracy: 0.8824\n",
      "Epoch 12/70\n",
      "938/938 [==============================] - 2s 2ms/step - loss: 0.2512 - accuracy: 0.9061 - val_loss: 0.3305 - val_accuracy: 0.8825\n",
      "Epoch 13/70\n",
      "938/938 [==============================] - 2s 3ms/step - loss: 0.2437 - accuracy: 0.9079 - val_loss: 0.3358 - val_accuracy: 0.8833\n",
      "Epoch 14/70\n",
      "938/938 [==============================] - 2s 2ms/step - loss: 0.2412 - accuracy: 0.9088 - val_loss: 0.3272 - val_accuracy: 0.8903\n",
      "Epoch 15/70\n",
      "938/938 [==============================] - 2s 2ms/step - loss: 0.2338 - accuracy: 0.9118 - val_loss: 0.3285 - val_accuracy: 0.8866\n",
      "Epoch 16/70\n",
      "938/938 [==============================] - 2s 2ms/step - loss: 0.2264 - accuracy: 0.9142 - val_loss: 0.3268 - val_accuracy: 0.8919\n",
      "Epoch 17/70\n",
      "938/938 [==============================] - 2s 2ms/step - loss: 0.2252 - accuracy: 0.9147 - val_loss: 0.3299 - val_accuracy: 0.8884\n",
      "Epoch 18/70\n",
      "938/938 [==============================] - 2s 2ms/step - loss: 0.2192 - accuracy: 0.9165 - val_loss: 0.3345 - val_accuracy: 0.8897\n",
      "Epoch 19/70\n",
      "938/938 [==============================] - 2s 2ms/step - loss: 0.2183 - accuracy: 0.9178 - val_loss: 0.3337 - val_accuracy: 0.8893\n",
      "Epoch 20/70\n",
      "938/938 [==============================] - 2s 2ms/step - loss: 0.2096 - accuracy: 0.9202 - val_loss: 0.3400 - val_accuracy: 0.8874\n",
      "Epoch 21/70\n",
      "938/938 [==============================] - 2s 2ms/step - loss: 0.2094 - accuracy: 0.9210 - val_loss: 0.3336 - val_accuracy: 0.8913\n",
      "Epoch 22/70\n",
      "938/938 [==============================] - 2s 3ms/step - loss: 0.2016 - accuracy: 0.9237 - val_loss: 0.3478 - val_accuracy: 0.8855\n",
      "313/313 [==============================] - 0s 1ms/step - loss: 0.3268 - accuracy: 0.8919\n",
      "Test accuracy is  0.8919000029563904\n",
      "This is a tiny improvement over model2, but as dropout regularizes the model we will keep this as our baseline model\n"
     ]
    }
   ],
   "source": [
    "#model with 2 hidden layers (same as model2) but now with dropout\n",
    "model4 = create_model_mlp(num_hidden_layers = 2 ,num_of_neurons=128, activation_hidden=\"relu\", optimizer=tf.keras.optimizers.Adam(), dropout=0.1)\n",
    "history4 = model4.fit(\n",
    "    x_train, y_train, epochs=epochs, batch_size=batch_size, callbacks=callbacks, validation_data = (x_test, y_test)\n",
    ")\n",
    "\n",
    "print(\"Test accuracy is \",model4.evaluate(x_test,y_test)[1])\n",
    "print(\"This is a tiny improvement over model2, but as dropout regularizes the model we will keep this as our baseline model\")"
   ]
  },
  {
   "cell_type": "code",
   "execution_count": 47,
   "metadata": {},
   "outputs": [
    {
     "data": {
      "image/png": "[encoded data removed]",
      "text/plain": [
       "<Figure size 576x432 with 1 Axes>"
      ]
     },
     "metadata": {
      "needs_background": "light"
     },
     "output_type": "display_data"
    }
   ],
   "source": [
    "plt.figure(figsize=(8, 6))\n",
    "plt.plot(history4.history['accuracy'])\n",
    "plt.plot(history4.history['val_accuracy'])\n",
    "plt.title('Model Accuracy')\n",
    "plt.ylabel('Accuracy')\n",
    "plt.xlabel('Epoch')\n",
    "plt.legend(['train', 'test'], loc='upper left')\n",
    "plt.show()"
   ]
  },
  {
   "cell_type": "code",
   "execution_count": 11,
   "metadata": {},
   "outputs": [],
   "source": [
    "# Reshape training and testing image\n",
    "#we need to reshape your data is that Tensorflow expects a certain input shape for its Deep Learning Model, i.e., in this case, a Convolution Neural Network, specifically\n",
    "#(<number of images>, <image x_dim>, <image y_dim>, <number of channels>)\n",
    "train_X_cnn = x_train.reshape(-1, 28, 28, 1)\n",
    "test_x_cnn = x_test.reshape(-1,28,28,1)"
   ]
  },
  {
   "cell_type": "code",
   "execution_count": 14,
   "metadata": {},
   "outputs": [
    {
     "data": {
      "text/plain": [
       "(60000, 28, 28, 1)"
      ]
     },
     "execution_count": 14,
     "metadata": {},
     "output_type": "execute_result"
    }
   ],
   "source": [
    "train_X_cnn.shape"
   ]
  },
  {
   "cell_type": "markdown",
   "metadata": {},
   "source": [
    "<h4>CNN's"
   ]
  },
  {
   "cell_type": "code",
   "execution_count": 33,
   "metadata": {},
   "outputs": [],
   "source": [
    "model5 = tf.keras.models.Sequential()\n",
    "model5.add(tf.keras.layers.Conv2D(32, (3, 3), activation='relu',kernel_initializer='he_uniform', input_shape=(28,28,1)))\n",
    "model5.add(tf.keras.layers.MaxPooling2D((2, 2)))\n",
    "model5.add(tf.keras.layers.Conv2D(64, (3, 3), activation='relu', kernel_initializer='he_uniform'))\n",
    "model5.add(tf.keras.layers.MaxPooling2D((2, 2)))\n",
    "model5.add(tf.keras.layers.Conv2D(64, (3, 3), activation='relu', kernel_initializer='he_uniform'))\n",
    "model5.add(tf.keras.layers.Flatten())\n",
    "model5.add(tf.keras.layers.Dense(64, activation='relu'))\n",
    "model5.add(tf.keras.layers.Dense(10, activation = \"softmax\"))\n",
    "model5.compile(loss='categorical_crossentropy', optimizer= tf.keras.optimizers.Adam(), metrics=['accuracy'])"
   ]
  },
  {
   "cell_type": "code",
   "execution_count": 34,
   "metadata": {},
   "outputs": [
    {
     "name": "stdout",
     "output_type": "stream",
     "text": [
      "Model: \"sequential_8\"\n",
      "_________________________________________________________________\n",
      " Layer (type)                Output Shape              Param #   \n",
      "=================================================================\n",
      " conv2d_22 (Conv2D)          (None, 26, 26, 32)        320       \n",
      "                                                                 \n",
      " max_pooling2d_14 (MaxPoolin  (None, 13, 13, 32)       0         \n",
      " g2D)                                                            \n",
      "                                                                 \n",
      " conv2d_23 (Conv2D)          (None, 11, 11, 64)        18496     \n",
      "                                                                 \n",
      " max_pooling2d_15 (MaxPoolin  (None, 5, 5, 64)         0         \n",
      " g2D)                                                            \n",
      "                                                                 \n",
      " conv2d_24 (Conv2D)          (None, 3, 3, 64)          36928     \n",
      "                                                                 \n",
      " flatten_5 (Flatten)         (None, 576)               0         \n",
      "                                                                 \n",
      " dense_10 (Dense)            (None, 64)                36928     \n",
      "                                                                 \n",
      " dense_11 (Dense)            (None, 10)                650       \n",
      "                                                                 \n",
      "=================================================================\n",
      "Total params: 93,322\n",
      "Trainable params: 93,322\n",
      "Non-trainable params: 0\n",
      "_________________________________________________________________\n"
     ]
    }
   ],
   "source": [
    "model5.summary()"
   ]
  },
  {
   "cell_type": "code",
   "execution_count": 35,
   "metadata": {},
   "outputs": [
    {
     "name": "stdout",
     "output_type": "stream",
     "text": [
      "Epoch 1/70\n",
      "938/938 [==============================] - 26s 27ms/step - loss: 0.4903 - accuracy: 0.8229 - val_loss: 0.3915 - val_accuracy: 0.8611\n",
      "Epoch 2/70\n",
      "938/938 [==============================] - 26s 28ms/step - loss: 0.3208 - accuracy: 0.8839 - val_loss: 0.3608 - val_accuracy: 0.8688\n",
      "Epoch 3/70\n",
      "938/938 [==============================] - 25s 27ms/step - loss: 0.2777 - accuracy: 0.8982 - val_loss: 0.3185 - val_accuracy: 0.8841\n",
      "Epoch 4/70\n",
      "938/938 [==============================] - 25s 26ms/step - loss: 0.2459 - accuracy: 0.9099 - val_loss: 0.2846 - val_accuracy: 0.8980\n",
      "Epoch 5/70\n",
      "938/938 [==============================] - 26s 28ms/step - loss: 0.2233 - accuracy: 0.9171 - val_loss: 0.2677 - val_accuracy: 0.9054\n",
      "Epoch 6/70\n",
      "938/938 [==============================] - 26s 28ms/step - loss: 0.2001 - accuracy: 0.9253 - val_loss: 0.2748 - val_accuracy: 0.9011\n",
      "Epoch 7/70\n",
      "938/938 [==============================] - 24s 26ms/step - loss: 0.1836 - accuracy: 0.9321 - val_loss: 0.2800 - val_accuracy: 0.9024\n",
      "Epoch 8/70\n",
      "938/938 [==============================] - 26s 28ms/step - loss: 0.1670 - accuracy: 0.9377 - val_loss: 0.2702 - val_accuracy: 0.9053\n",
      "Epoch 9/70\n",
      "938/938 [==============================] - 26s 28ms/step - loss: 0.1514 - accuracy: 0.9433 - val_loss: 0.2792 - val_accuracy: 0.9070\n",
      "Epoch 10/70\n",
      "938/938 [==============================] - 27s 29ms/step - loss: 0.1396 - accuracy: 0.9481 - val_loss: 0.2765 - val_accuracy: 0.9110\n",
      "Epoch 11/70\n",
      "938/938 [==============================] - 28s 29ms/step - loss: 0.1270 - accuracy: 0.9521 - val_loss: 0.3008 - val_accuracy: 0.9050\n",
      "Epoch 12/70\n",
      "938/938 [==============================] - 24s 26ms/step - loss: 0.1155 - accuracy: 0.9564 - val_loss: 0.3318 - val_accuracy: 0.9018\n",
      "Epoch 13/70\n",
      "938/938 [==============================] - 25s 27ms/step - loss: 0.1029 - accuracy: 0.9616 - val_loss: 0.3251 - val_accuracy: 0.9067\n",
      "Epoch 14/70\n",
      "938/938 [==============================] - 26s 28ms/step - loss: 0.0987 - accuracy: 0.9633 - val_loss: 0.3430 - val_accuracy: 0.9099\n",
      "Epoch 15/70\n",
      "938/938 [==============================] - 27s 29ms/step - loss: 0.0890 - accuracy: 0.9663 - val_loss: 0.3494 - val_accuracy: 0.9088\n",
      "Epoch 16/70\n",
      "938/938 [==============================] - 27s 28ms/step - loss: 0.0810 - accuracy: 0.9696 - val_loss: 0.3708 - val_accuracy: 0.9053\n"
     ]
    }
   ],
   "source": [
    "history5 = model5.fit(\n",
    "    train_X_cnn, y_train, epochs=epochs, batch_size=batch_size, callbacks=callbacks, validation_data = (test_x_cnn, y_test)\n",
    ")"
   ]
  },
  {
   "cell_type": "code",
   "execution_count": 38,
   "metadata": {},
   "outputs": [
    {
     "name": "stdout",
     "output_type": "stream",
     "text": [
      "0.9110000133514404\n"
     ]
    }
   ],
   "source": [
    "_, val_accuracy = model5.evaluate(test_x_cnn,y_test, verbose=0)\n",
    "print(val_accuracy)"
   ]
  },
  {
   "cell_type": "code",
   "execution_count": null,
   "metadata": {},
   "outputs": [],
   "source": []
  },
  {
   "cell_type": "code",
   "execution_count": 21,
   "metadata": {},
   "outputs": [],
   "source": [
    "def plot_image(i, predictions_array, true_label, img):\n",
    "  true_label, img = true_label[i], img[i]\n",
    "  plt.grid(False)\n",
    "  plt.xticks([])\n",
    "  plt.yticks([])\n",
    "\n",
    "  plt.imshow(img, cmap=plt.cm.binary)\n",
    "\n",
    "  predicted_label = np.argmax(predictions_array)\n",
    "  if predicted_label == true_label:\n",
    "    color = 'blue'\n",
    "  else:\n",
    "    color = 'red'\n",
    "\n",
    "  plt.xlabel(\"{} {:2.0f}% ({})\".format(class_names[predicted_label],\n",
    "                                100*np.max(predictions_array),\n",
    "                                class_names[true_label]),\n",
    "                                color=color)\n",
    "\n",
    "def plot_value_array(i, predictions_array, true_label):\n",
    "  true_label = true_label[i]\n",
    "  plt.grid(False)\n",
    "  plt.xticks(range(10))\n",
    "  plt.yticks([])\n",
    "  thisplot = plt.bar(range(10), predictions_array, color=\"#777777\")\n",
    "  plt.ylim([0, 1])\n",
    "  predicted_label = np.argmax(predictions_array)\n",
    "\n",
    "  thisplot[predicted_label].set_color('red')\n",
    "  thisplot[true_label].set_color('blue')"
   ]
  },
  {
   "cell_type": "code",
   "execution_count": 22,
   "metadata": {},
   "outputs": [
    {
     "ename": "ValueError",
     "evalue": "The truth value of an array with more than one element is ambiguous. Use a.any() or a.all()",
     "output_type": "error",
     "traceback": [
      "\u001b[1;31m---------------------------------------------------------------------------\u001b[0m",
      "\u001b[1;31mValueError\u001b[0m                                Traceback (most recent call last)",
      "\u001b[1;32m~\\AppData\\Local\\Temp/ipykernel_2132/2030006600.py\u001b[0m in \u001b[0;36m<module>\u001b[1;34m\u001b[0m\n\u001b[0;32m      2\u001b[0m \u001b[0mplt\u001b[0m\u001b[1;33m.\u001b[0m\u001b[0mfigure\u001b[0m\u001b[1;33m(\u001b[0m\u001b[0mfigsize\u001b[0m\u001b[1;33m=\u001b[0m\u001b[1;33m(\u001b[0m\u001b[1;36m6\u001b[0m\u001b[1;33m,\u001b[0m\u001b[1;36m3\u001b[0m\u001b[1;33m)\u001b[0m\u001b[1;33m)\u001b[0m\u001b[1;33m\u001b[0m\u001b[1;33m\u001b[0m\u001b[0m\n\u001b[0;32m      3\u001b[0m \u001b[0mplt\u001b[0m\u001b[1;33m.\u001b[0m\u001b[0msubplot\u001b[0m\u001b[1;33m(\u001b[0m\u001b[1;36m1\u001b[0m\u001b[1;33m,\u001b[0m\u001b[1;36m2\u001b[0m\u001b[1;33m,\u001b[0m\u001b[1;36m1\u001b[0m\u001b[1;33m)\u001b[0m\u001b[1;33m\u001b[0m\u001b[1;33m\u001b[0m\u001b[0m\n\u001b[1;32m----> 4\u001b[1;33m \u001b[0mplot_image\u001b[0m\u001b[1;33m(\u001b[0m\u001b[0mi\u001b[0m\u001b[1;33m,\u001b[0m \u001b[0mpredictions\u001b[0m\u001b[1;33m[\u001b[0m\u001b[0mi\u001b[0m\u001b[1;33m]\u001b[0m\u001b[1;33m,\u001b[0m \u001b[0my_test\u001b[0m\u001b[1;33m,\u001b[0m \u001b[0mx_test\u001b[0m\u001b[1;33m.\u001b[0m\u001b[0mreshape\u001b[0m\u001b[1;33m(\u001b[0m\u001b[1;36m10000\u001b[0m\u001b[1;33m,\u001b[0m\u001b[1;36m28\u001b[0m\u001b[1;33m,\u001b[0m\u001b[1;36m28\u001b[0m\u001b[1;33m)\u001b[0m\u001b[1;33m)\u001b[0m\u001b[1;33m\u001b[0m\u001b[1;33m\u001b[0m\u001b[0m\n\u001b[0m\u001b[0;32m      5\u001b[0m \u001b[0mplt\u001b[0m\u001b[1;33m.\u001b[0m\u001b[0msubplot\u001b[0m\u001b[1;33m(\u001b[0m\u001b[1;36m1\u001b[0m\u001b[1;33m,\u001b[0m\u001b[1;36m2\u001b[0m\u001b[1;33m,\u001b[0m\u001b[1;36m2\u001b[0m\u001b[1;33m)\u001b[0m\u001b[1;33m\u001b[0m\u001b[1;33m\u001b[0m\u001b[0m\n\u001b[0;32m      6\u001b[0m \u001b[0mplot_value_array\u001b[0m\u001b[1;33m(\u001b[0m\u001b[0mi\u001b[0m\u001b[1;33m,\u001b[0m \u001b[0mpredictions\u001b[0m\u001b[1;33m[\u001b[0m\u001b[0mi\u001b[0m\u001b[1;33m]\u001b[0m\u001b[1;33m,\u001b[0m  \u001b[0my_test\u001b[0m\u001b[1;33m)\u001b[0m\u001b[1;33m\u001b[0m\u001b[1;33m\u001b[0m\u001b[0m\n",
      "\u001b[1;32m~\\AppData\\Local\\Temp/ipykernel_2132/1987700368.py\u001b[0m in \u001b[0;36mplot_image\u001b[1;34m(i, predictions_array, true_label, img)\u001b[0m\n\u001b[0;32m      8\u001b[0m \u001b[1;33m\u001b[0m\u001b[0m\n\u001b[0;32m      9\u001b[0m   \u001b[0mpredicted_label\u001b[0m \u001b[1;33m=\u001b[0m \u001b[0mnp\u001b[0m\u001b[1;33m.\u001b[0m\u001b[0margmax\u001b[0m\u001b[1;33m(\u001b[0m\u001b[0mpredictions_array\u001b[0m\u001b[1;33m)\u001b[0m\u001b[1;33m\u001b[0m\u001b[1;33m\u001b[0m\u001b[0m\n\u001b[1;32m---> 10\u001b[1;33m   \u001b[1;32mif\u001b[0m \u001b[0mpredicted_label\u001b[0m \u001b[1;33m==\u001b[0m \u001b[0mtrue_label\u001b[0m\u001b[1;33m:\u001b[0m\u001b[1;33m\u001b[0m\u001b[1;33m\u001b[0m\u001b[0m\n\u001b[0m\u001b[0;32m     11\u001b[0m     \u001b[0mcolor\u001b[0m \u001b[1;33m=\u001b[0m \u001b[1;34m'blue'\u001b[0m\u001b[1;33m\u001b[0m\u001b[1;33m\u001b[0m\u001b[0m\n\u001b[0;32m     12\u001b[0m   \u001b[1;32melse\u001b[0m\u001b[1;33m:\u001b[0m\u001b[1;33m\u001b[0m\u001b[1;33m\u001b[0m\u001b[0m\n",
      "\u001b[1;31mValueError\u001b[0m: The truth value of an array with more than one element is ambiguous. Use a.any() or a.all()"
     ]
    },
    {
     "data": {
      "image/png": "[encoded data removed]",
      "text/plain": [
       "<Figure size 432x216 with 1 Axes>"
      ]
     },
     "metadata": {},
     "output_type": "display_data"
    }
   ],
   "source": [
    "i = 0\n",
    "plt.figure(figsize=(6,3))\n",
    "plt.subplot(1,2,1)\n",
    "plot_image(i, predictions[i], y_test, x_test.reshape(10000,28,28))\n",
    "plt.subplot(1,2,2)\n",
    "plot_value_array(i, predictions[i],  y_test)\n",
    "plt.show()"
   ]
  },
  {
   "cell_type": "code",
   "execution_count": null,
   "metadata": {},
   "outputs": [],
   "source": []
  }
 ],
 "metadata": {
  "interpreter": {
   "hash": "697a9b082ea1da0baca53618b83ff9ac95e2f2c56db53261fa2a7ee24860c788"
  },
  "kernelspec": {
   "display_name": "Python 3.9.7 ('tf')",
   "language": "python",
   "name": "python3"
  },
  "language_info": {
   "codemirror_mode": {
    "name": "ipython",
    "version": 3
   },
   "file_extension": ".py",
   "mimetype": "text/x-python",
   "name": "python",
   "nbconvert_exporter": "python",
   "pygments_lexer": "ipython3",
   "version": "3.9.7"
  },
  "orig_nbformat": 4
 },
 "nbformat": 4,
 "nbformat_minor": 2
}
