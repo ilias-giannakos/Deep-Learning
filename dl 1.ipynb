{
 "cells": [
  {
   "cell_type": "markdown",
   "metadata": {},
   "source": [
    "<h1>Deep Learning\n",
    "Assignment 1 - Fashion MNIST Dataset\n",
    "<h3>Ilias Giannakos - p3352007<br>\n",
    "Elena Adamidi - p3352002<br>"
   ]
  },
  {
   "cell_type": "markdown",
   "metadata": {},
   "source": [
    "<h5> Import Necessary Libraries"
   ]
  },
  {
   "cell_type": "code",
   "execution_count": 1,
   "metadata": {},
   "outputs": [],
   "source": [
    "import numpy as np\n",
    "import tensorflow as tf\n",
    "from tensorflow.keras.datasets import fashion_mnist\n",
    "from sklearn.model_selection import train_test_split\n",
    "import matplotlib.pyplot as plt\n"
   ]
  },
  {
   "cell_type": "markdown",
   "metadata": {},
   "source": [
    "Set Seed for reproducibility"
   ]
  },
  {
   "cell_type": "code",
   "execution_count": 2,
   "metadata": {},
   "outputs": [],
   "source": [
    "from numpy.random import seed\n",
    "from tensorflow.random import set_seed\n",
    "seed(42)\n",
    "set_seed(42)"
   ]
  },
  {
   "cell_type": "markdown",
   "metadata": {},
   "source": [
    "<h5> Load Fashion MNIST dataset and check it has been loaded correctly"
   ]
  },
  {
   "cell_type": "code",
   "execution_count": 3,
   "metadata": {},
   "outputs": [],
   "source": [
    "(x_train, y_train), (x_test, y_test) = fashion_mnist.load_data()\n",
    "\n",
    "#check that fashion mnist has been loaded correctly\n",
    "assert x_train.shape == (60000, 28, 28)\n",
    "assert x_test.shape == (10000, 28, 28)\n",
    "assert y_train.shape == (60000,)\n",
    "assert y_test.shape == (10000,)"
   ]
  },
  {
   "cell_type": "markdown",
   "metadata": {},
   "source": [
    "<h5> Check the distribution of each label"
   ]
  },
  {
   "cell_type": "code",
   "execution_count": 4,
   "metadata": {},
   "outputs": [
    {
     "name": "stdout",
     "output_type": "stream",
     "text": [
      "[6000 6000 6000 6000 6000 6000 6000 6000 6000 6000]\n",
      "[1000 1000 1000 1000 1000 1000 1000 1000 1000 1000]\n"
     ]
    }
   ],
   "source": [
    "print(np.bincount(y_train))\n",
    "print(np.bincount(y_test))\n",
    "#train & test dataset is balanced (same number of occurencies between different clothes)"
   ]
  },
  {
   "cell_type": "markdown",
   "metadata": {},
   "source": [
    "<h5> Map labels to their original description"
   ]
  },
  {
   "cell_type": "code",
   "execution_count": 5,
   "metadata": {},
   "outputs": [
    {
     "name": "stdout",
     "output_type": "stream",
     "text": [
      "Total fashion mnist categories are 10\n"
     ]
    }
   ],
   "source": [
    "label_description = {0: \"T-shirt\",1: \"Trouser\",\n",
    "2: \"Pullover\", 3: \"Dress\", \n",
    "4: \"Coat\", 5:\"Sandal\",6:\"Shirt\",\n",
    "7:\"Sneaker\",8:\"Bag\",9:\"Ankle Boot\"}\n",
    "\n",
    "print(\"Total fashion mnist categories are\",len(label_description))"
   ]
  },
  {
   "cell_type": "markdown",
   "metadata": {},
   "source": [
    "<h5> Preprocessing"
   ]
  },
  {
   "cell_type": "code",
   "execution_count": 6,
   "metadata": {},
   "outputs": [],
   "source": [
    "#make y values categorical\n",
    "y_train = tf.keras.utils.to_categorical(y_train, len(label_description))\n",
    "y_test = tf.keras.utils.to_categorical(y_test, len(label_description))\n",
    "\n",
    "#normalize pixels\n",
    "x_train = (x_train.astype(\"float32\") / 255)\n",
    "x_test = (x_test.astype(\"float32\") / 255)\n",
    "\n",
    "#flatten the train and test data\n",
    "x_train = x_train.reshape(len(x_train),784)\n",
    "x_test = x_test.reshape(len(x_test),784)\n",
    "\n",
    "#create a development set from training set for tuning\n",
    "x_train, x_dev, y_train, y_dev = train_test_split(x_train,y_train, test_size=0.15, random_state=42)"
   ]
  },
  {
   "cell_type": "markdown",
   "metadata": {},
   "source": [
    "Map the one-hot-encoded y values back to human-readable descriptions"
   ]
  },
  {
   "cell_type": "code",
   "execution_count": 7,
   "metadata": {},
   "outputs": [
    {
     "name": "stdout",
     "output_type": "stream",
     "text": [
      "Y train vector of index 4 is: [0. 0. 0. 0. 0. 0. 1. 0. 0. 0.]\n",
      "Y train of index 4 original value is: 6\n"
     ]
    }
   ],
   "source": [
    "idx = 4\n",
    "print(\"Y train vector of index {} is:\".format(idx),y_train[idx])\n",
    "print(\"Y train of index {} original value is:\".format(idx),y_train[idx].argmax())"
   ]
  },
  {
   "cell_type": "markdown",
   "metadata": {},
   "source": [
    "Visualize the data"
   ]
  },
  {
   "cell_type": "code",
   "execution_count": 8,
   "metadata": {},
   "outputs": [
    {
     "data": {
      "image/png": "[encoded data removed]",
      "text/plain": [
       "<Figure size 720x720 with 10 Axes>"
      ]
     },
     "metadata": {},
     "output_type": "display_data"
    }
   ],
   "source": [
    "plt.figure(figsize=(10,10))\n",
    "\n",
    "for i in range(10):\n",
    "    plt.subplot(5,5,i+1)\n",
    "    plt.xticks([])\n",
    "    plt.yticks([])\n",
    "    plt.grid(False)\n",
    "    pixels = x_train[i].reshape((28,28))\n",
    "    label = y_train[i].argmax() #with argmax we can get back the original value\n",
    "    \n",
    "    #plt.title('Label is {}'.format(label_description.get(label)))\n",
    "    plt.imshow(pixels, cmap=\"gray\")\n",
    "    plt.xlabel(\"This is {}\".format(label_description.get(label)))\n",
    "\n",
    "plt.show()\n"
   ]
  },
  {
   "cell_type": "markdown",
   "metadata": {},
   "source": [
    "<h4>Multi Layer Perceptron (MLP) Modelling"
   ]
  },
  {
   "cell_type": "code",
   "execution_count": 9,
   "metadata": {},
   "outputs": [],
   "source": [
    "def create_model_mlp(num_hidden_layers: int, num_of_neurons: int, activation_hidden:str = \"relu\", optimizer = None, epochs:int = 100, dropout:int = None):\n",
    "    model = tf.keras.Sequential()\n",
    "    model.add(tf.keras.layers.Input(shape=784, name=\"Input layer\"))\n",
    "    for layer in range(num_hidden_layers-1):\n",
    "        model.add(tf.keras.layers.Dense(num_of_neurons, activation=activation_hidden))\n",
    "        if dropout:\n",
    "            model.add(tf.keras.layers.Dropout(dropout))\n",
    "    model.add(tf.keras.layers.Dense(int(num_of_neurons/2), activation=activation_hidden))\n",
    "    model.add(tf.keras.layers.Dense(len(label_description), activation=\"softmax\"))\n",
    "    opt = optimizer\n",
    "    model.compile(loss='categorical_crossentropy', optimizer= opt, metrics=['accuracy'])\n",
    "    return model\n",
    "    \n",
    "\n"
   ]
  },
  {
   "cell_type": "markdown",
   "metadata": {},
   "source": [
    "Default Values:"
   ]
  },
  {
   "cell_type": "code",
   "execution_count": 10,
   "metadata": {},
   "outputs": [],
   "source": [
    "epochs = 70\n",
    "batch_size = 64\n",
    "callbacks = tf.keras.callbacks.EarlyStopping(monitor=\"val_accuracy\",\n",
    "    min_delta=0,\n",
    "    patience=6,\n",
    "    verbose=0,\n",
    "    mode=\"auto\",\n",
    "    baseline=None,\n",
    "    restore_best_weights=True)"
   ]
  },
  {
   "cell_type": "code",
   "execution_count": 11,
   "metadata": {},
   "outputs": [],
   "source": [
    "#baseline model, 2 hidden layers, 128 & 64 neurons each layers & SGD optimizer\n",
    "model = create_model_mlp(num_hidden_layers =2 ,num_of_neurons=128, activation_hidden=\"relu\", optimizer=tf.keras.optimizers.SGD())"
   ]
  },
  {
   "cell_type": "code",
   "execution_count": 12,
   "metadata": {},
   "outputs": [
    {
     "name": "stdout",
     "output_type": "stream",
     "text": [
      "Epoch 1/70\n",
      "797/797 [==============================] - 3s 3ms/step - loss: 0.9528 - accuracy: 0.7004 - val_loss: 0.6539 - val_accuracy: 0.7851\n",
      "Epoch 2/70\n",
      "797/797 [==============================] - 2s 3ms/step - loss: 0.5720 - accuracy: 0.8062 - val_loss: 0.5386 - val_accuracy: 0.8159\n",
      "Epoch 3/70\n",
      "797/797 [==============================] - 2s 2ms/step - loss: 0.5054 - accuracy: 0.8244 - val_loss: 0.4966 - val_accuracy: 0.8263\n",
      "Epoch 4/70\n",
      "797/797 [==============================] - 2s 2ms/step - loss: 0.4707 - accuracy: 0.8369 - val_loss: 0.4694 - val_accuracy: 0.8368\n",
      "Epoch 5/70\n",
      "797/797 [==============================] - 2s 2ms/step - loss: 0.4501 - accuracy: 0.8429 - val_loss: 0.4500 - val_accuracy: 0.8399\n",
      "Epoch 6/70\n",
      "797/797 [==============================] - 2s 2ms/step - loss: 0.4340 - accuracy: 0.8473 - val_loss: 0.4470 - val_accuracy: 0.8410\n",
      "Epoch 7/70\n",
      "797/797 [==============================] - 1s 2ms/step - loss: 0.4206 - accuracy: 0.8513 - val_loss: 0.4266 - val_accuracy: 0.8490\n",
      "Epoch 8/70\n",
      "797/797 [==============================] - 1s 2ms/step - loss: 0.4094 - accuracy: 0.8562 - val_loss: 0.4305 - val_accuracy: 0.8474\n",
      "Epoch 9/70\n",
      "797/797 [==============================] - 1s 2ms/step - loss: 0.4000 - accuracy: 0.8587 - val_loss: 0.4136 - val_accuracy: 0.8544\n",
      "Epoch 10/70\n",
      "797/797 [==============================] - 2s 2ms/step - loss: 0.3911 - accuracy: 0.8627 - val_loss: 0.4070 - val_accuracy: 0.8561\n",
      "Epoch 11/70\n",
      "797/797 [==============================] - 1s 2ms/step - loss: 0.3832 - accuracy: 0.8662 - val_loss: 0.4025 - val_accuracy: 0.8562\n",
      "Epoch 12/70\n",
      "797/797 [==============================] - 2s 2ms/step - loss: 0.3761 - accuracy: 0.8684 - val_loss: 0.3932 - val_accuracy: 0.8602\n",
      "Epoch 13/70\n",
      "797/797 [==============================] - 2s 2ms/step - loss: 0.3689 - accuracy: 0.8699 - val_loss: 0.3879 - val_accuracy: 0.8611\n",
      "Epoch 14/70\n",
      "797/797 [==============================] - 2s 2ms/step - loss: 0.3631 - accuracy: 0.8715 - val_loss: 0.3909 - val_accuracy: 0.8598\n",
      "Epoch 15/70\n",
      "797/797 [==============================] - 2s 2ms/step - loss: 0.3584 - accuracy: 0.8735 - val_loss: 0.3779 - val_accuracy: 0.8650\n",
      "Epoch 16/70\n",
      "797/797 [==============================] - 2s 2ms/step - loss: 0.3521 - accuracy: 0.8754 - val_loss: 0.3772 - val_accuracy: 0.8639\n",
      "Epoch 17/70\n",
      "797/797 [==============================] - 2s 2ms/step - loss: 0.3468 - accuracy: 0.8777 - val_loss: 0.4051 - val_accuracy: 0.8562\n",
      "Epoch 18/70\n",
      "797/797 [==============================] - 1s 2ms/step - loss: 0.3427 - accuracy: 0.8784 - val_loss: 0.3763 - val_accuracy: 0.8637\n",
      "Epoch 19/70\n",
      "797/797 [==============================] - 2s 2ms/step - loss: 0.3375 - accuracy: 0.8813 - val_loss: 0.3680 - val_accuracy: 0.8683\n",
      "Epoch 20/70\n",
      "797/797 [==============================] - 1s 2ms/step - loss: 0.3330 - accuracy: 0.8820 - val_loss: 0.3620 - val_accuracy: 0.8712\n",
      "Epoch 21/70\n",
      "797/797 [==============================] - 1s 2ms/step - loss: 0.3288 - accuracy: 0.8831 - val_loss: 0.3575 - val_accuracy: 0.8730\n",
      "Epoch 22/70\n",
      "797/797 [==============================] - 2s 2ms/step - loss: 0.3251 - accuracy: 0.8853 - val_loss: 0.3571 - val_accuracy: 0.8749\n",
      "Epoch 23/70\n",
      "797/797 [==============================] - 2s 2ms/step - loss: 0.3215 - accuracy: 0.8861 - val_loss: 0.3565 - val_accuracy: 0.8754\n",
      "Epoch 24/70\n",
      "797/797 [==============================] - 2s 2ms/step - loss: 0.3176 - accuracy: 0.8870 - val_loss: 0.3658 - val_accuracy: 0.8727\n",
      "Epoch 25/70\n",
      "797/797 [==============================] - 2s 2ms/step - loss: 0.3137 - accuracy: 0.8891 - val_loss: 0.3529 - val_accuracy: 0.8766\n",
      "Epoch 26/70\n",
      "797/797 [==============================] - 2s 2ms/step - loss: 0.3109 - accuracy: 0.8894 - val_loss: 0.3837 - val_accuracy: 0.8596\n",
      "Epoch 27/70\n",
      "797/797 [==============================] - 2s 2ms/step - loss: 0.3067 - accuracy: 0.8909 - val_loss: 0.3541 - val_accuracy: 0.8744\n",
      "Epoch 28/70\n",
      "797/797 [==============================] - 1s 2ms/step - loss: 0.3035 - accuracy: 0.8911 - val_loss: 0.3526 - val_accuracy: 0.8712\n",
      "Epoch 29/70\n",
      "797/797 [==============================] - 1s 2ms/step - loss: 0.3005 - accuracy: 0.8924 - val_loss: 0.3500 - val_accuracy: 0.8742\n",
      "Epoch 30/70\n",
      "797/797 [==============================] - ETA: 0s - loss: 0.2969 - accuracy: 0.89 - 1s 2ms/step - loss: 0.2976 - accuracy: 0.8933 - val_loss: 0.3538 - val_accuracy: 0.8740\n",
      "Epoch 31/70\n",
      "797/797 [==============================] - 2s 2ms/step - loss: 0.2944 - accuracy: 0.8946 - val_loss: 0.3393 - val_accuracy: 0.8784\n",
      "Epoch 32/70\n",
      "797/797 [==============================] - 2s 2ms/step - loss: 0.2911 - accuracy: 0.8972 - val_loss: 0.3612 - val_accuracy: 0.8722\n",
      "Epoch 33/70\n",
      "797/797 [==============================] - 1s 2ms/step - loss: 0.2888 - accuracy: 0.8957 - val_loss: 0.3421 - val_accuracy: 0.8772\n",
      "Epoch 34/70\n",
      "797/797 [==============================] - 2s 2ms/step - loss: 0.2849 - accuracy: 0.8974 - val_loss: 0.3425 - val_accuracy: 0.8779\n",
      "Epoch 35/70\n",
      "797/797 [==============================] - 2s 2ms/step - loss: 0.2835 - accuracy: 0.8985 - val_loss: 0.3439 - val_accuracy: 0.8781\n",
      "Epoch 36/70\n",
      "797/797 [==============================] - 2s 2ms/step - loss: 0.2809 - accuracy: 0.8993 - val_loss: 0.3489 - val_accuracy: 0.8732\n",
      "Epoch 37/70\n",
      "797/797 [==============================] - 2s 2ms/step - loss: 0.2781 - accuracy: 0.9011 - val_loss: 0.3423 - val_accuracy: 0.8759\n"
     ]
    }
   ],
   "source": [
    "history = model.fit(\n",
    "    x_train, y_train, epochs=epochs, batch_size=batch_size, callbacks=callbacks, validation_data = (x_dev, y_dev)\n",
    ")"
   ]
  },
  {
   "cell_type": "code",
   "execution_count": 13,
   "metadata": {},
   "outputs": [
    {
     "data": {
      "image/png": "[encoded data removed]",
      "text/plain": [
       "<Figure size 576x432 with 1 Axes>"
      ]
     },
     "metadata": {
      "needs_background": "light"
     },
     "output_type": "display_data"
    }
   ],
   "source": [
    "plt.figure(figsize=(8, 6))\n",
    "plt.plot(history.history['accuracy'])\n",
    "plt.plot(history.history['val_accuracy'])\n",
    "plt.title('Model Accuracy')\n",
    "plt.ylabel('Accuracy')\n",
    "plt.xlabel('Epoch')\n",
    "plt.legend(['train', 'test'], loc='upper left')\n",
    "plt.show()"
   ]
  },
  {
   "cell_type": "code",
   "execution_count": 14,
   "metadata": {},
   "outputs": [
    {
     "name": "stdout",
     "output_type": "stream",
     "text": [
      "0.8744000196456909\n"
     ]
    }
   ],
   "source": [
    "#results of first model on test dataset\n",
    "_, val_accuracy = model.evaluate(x_test,y_test, verbose=0)\n",
    "print(val_accuracy)"
   ]
  },
  {
   "cell_type": "code",
   "execution_count": 15,
   "metadata": {},
   "outputs": [
    {
     "name": "stdout",
     "output_type": "stream",
     "text": [
      "Epoch 1/70\n",
      "797/797 [==============================] - 2s 2ms/step - loss: 0.5194 - accuracy: 0.8186 - val_loss: 0.4087 - val_accuracy: 0.8548\n",
      "Epoch 2/70\n",
      "797/797 [==============================] - 2s 2ms/step - loss: 0.3762 - accuracy: 0.8618 - val_loss: 0.4054 - val_accuracy: 0.8529\n",
      "Epoch 3/70\n",
      "797/797 [==============================] - 2s 2ms/step - loss: 0.3415 - accuracy: 0.8745 - val_loss: 0.3619 - val_accuracy: 0.8723\n",
      "Epoch 4/70\n",
      "797/797 [==============================] - 2s 2ms/step - loss: 0.3166 - accuracy: 0.8837 - val_loss: 0.3384 - val_accuracy: 0.8790\n",
      "Epoch 5/70\n",
      "797/797 [==============================] - 2s 2ms/step - loss: 0.2997 - accuracy: 0.8892 - val_loss: 0.3255 - val_accuracy: 0.8816\n",
      "Epoch 6/70\n",
      "797/797 [==============================] - 2s 2ms/step - loss: 0.2834 - accuracy: 0.8947 - val_loss: 0.3312 - val_accuracy: 0.8819\n",
      "Epoch 7/70\n",
      "797/797 [==============================] - 2s 2ms/step - loss: 0.2713 - accuracy: 0.8985 - val_loss: 0.3473 - val_accuracy: 0.8777\n",
      "Epoch 8/70\n",
      "797/797 [==============================] - 2s 2ms/step - loss: 0.2617 - accuracy: 0.9017 - val_loss: 0.3309 - val_accuracy: 0.8798\n",
      "Epoch 9/70\n",
      "797/797 [==============================] - 2s 2ms/step - loss: 0.2513 - accuracy: 0.9055 - val_loss: 0.3134 - val_accuracy: 0.8869487 - ac\n",
      "Epoch 10/70\n",
      "797/797 [==============================] - 1s 2ms/step - loss: 0.2437 - accuracy: 0.9091 - val_loss: 0.3238 - val_accuracy: 0.8896\n",
      "Epoch 11/70\n",
      "797/797 [==============================] - 2s 2ms/step - loss: 0.2329 - accuracy: 0.9119 - val_loss: 0.3334 - val_accuracy: 0.8823\n",
      "Epoch 12/70\n",
      "797/797 [==============================] - 2s 2ms/step - loss: 0.2255 - accuracy: 0.9147 - val_loss: 0.3250 - val_accuracy: 0.8899\n",
      "Epoch 13/70\n",
      "797/797 [==============================] - 2s 2ms/step - loss: 0.2205 - accuracy: 0.9166 - val_loss: 0.3477 - val_accuracy: 0.8826\n",
      "Epoch 14/70\n",
      "797/797 [==============================] - 2s 2ms/step - loss: 0.2090 - accuracy: 0.9208 - val_loss: 0.3092 - val_accuracy: 0.8918\n",
      "Epoch 15/70\n",
      "797/797 [==============================] - 1s 2ms/step - loss: 0.2032 - accuracy: 0.9229 - val_loss: 0.3325 - val_accuracy: 0.8857\n",
      "Epoch 16/70\n",
      "797/797 [==============================] - 2s 2ms/step - loss: 0.2007 - accuracy: 0.9248 - val_loss: 0.3214 - val_accuracy: 0.8940\n",
      "Epoch 17/70\n",
      "797/797 [==============================] - 2s 2ms/step - loss: 0.1938 - accuracy: 0.9267 - val_loss: 0.3333 - val_accuracy: 0.8864\n",
      "Epoch 18/70\n",
      "797/797 [==============================] - 2s 2ms/step - loss: 0.1879 - accuracy: 0.9283 - val_loss: 0.3425 - val_accuracy: 0.8862\n",
      "Epoch 19/70\n",
      "797/797 [==============================] - 2s 2ms/step - loss: 0.1829 - accuracy: 0.9302 - val_loss: 0.3348 - val_accuracy: 0.8890\n",
      "Epoch 20/70\n",
      "797/797 [==============================] - 2s 2ms/step - loss: 0.1779 - accuracy: 0.9329 - val_loss: 0.3365 - val_accuracy: 0.8917\n",
      "Epoch 21/70\n",
      "797/797 [==============================] - 2s 2ms/step - loss: 0.1723 - accuracy: 0.9341 - val_loss: 0.3445 - val_accuracy: 0.8841\n",
      "Epoch 22/70\n",
      "797/797 [==============================] - 1s 2ms/step - loss: 0.1698 - accuracy: 0.9361 - val_loss: 0.3330 - val_accuracy: 0.8939\n",
      "313/313 [==============================] - 0s 1ms/step - loss: 0.3453 - accuracy: 0.8887\n",
      "Test accuracy is  0.888700008392334\n"
     ]
    }
   ],
   "source": [
    "#baseline model, 2 hidden layers, 128 & 64 neurons each layers & Adam optimizer\n",
    "model2 = create_model_mlp(num_hidden_layers = 2 ,num_of_neurons=128, activation_hidden=\"relu\", optimizer=tf.keras.optimizers.Adam())\n",
    "history2 = model2.fit(\n",
    "    x_train, y_train, epochs=epochs, batch_size=batch_size, callbacks=callbacks, validation_data = (x_dev, y_dev)\n",
    ")\n",
    "\n",
    "print(\"Test accuracy is \",model2.evaluate(x_test,y_test)[1])\n"
   ]
  },
  {
   "cell_type": "code",
   "execution_count": 16,
   "metadata": {},
   "outputs": [
    {
     "name": "stdout",
     "output_type": "stream",
     "text": [
      "0.888700008392334\n"
     ]
    }
   ],
   "source": [
    "#results of second model on test dataset\n",
    "_, val_accuracy = model2.evaluate(x_test,y_test, verbose=0)\n",
    "print(val_accuracy)"
   ]
  },
  {
   "cell_type": "markdown",
   "metadata": {},
   "source": [
    "As we observe, Adam optimizer achieves better performance (0.88,4 val accuracy) while taking much less epochs to converge."
   ]
  },
  {
   "cell_type": "code",
   "execution_count": 17,
   "metadata": {},
   "outputs": [
    {
     "name": "stdout",
     "output_type": "stream",
     "text": [
      "Epoch 1/70\n",
      "797/797 [==============================] - 3s 3ms/step - loss: 0.5420 - accuracy: 0.8061 - val_loss: 0.4264 - val_accuracy: 0.8490\n",
      "Epoch 2/70\n",
      "797/797 [==============================] - 2s 3ms/step - loss: 0.3828 - accuracy: 0.8602 - val_loss: 0.4164 - val_accuracy: 0.8457\n",
      "Epoch 3/70\n",
      "797/797 [==============================] - 2s 2ms/step - loss: 0.3488 - accuracy: 0.8711 - val_loss: 0.3801 - val_accuracy: 0.8598\n",
      "Epoch 4/70\n",
      "797/797 [==============================] - 2s 3ms/step - loss: 0.3236 - accuracy: 0.8812 - val_loss: 0.3649 - val_accuracy: 0.8689\n",
      "Epoch 5/70\n",
      "797/797 [==============================] - 2s 3ms/step - loss: 0.3068 - accuracy: 0.8863 - val_loss: 0.3404 - val_accuracy: 0.8732\n",
      "Epoch 6/70\n",
      "797/797 [==============================] - 2s 3ms/step - loss: 0.2886 - accuracy: 0.8923 - val_loss: 0.3360 - val_accuracy: 0.8792\n",
      "Epoch 7/70\n",
      "797/797 [==============================] - 2s 3ms/step - loss: 0.2781 - accuracy: 0.8957 - val_loss: 0.3469 - val_accuracy: 0.8769\n",
      "Epoch 8/70\n",
      "797/797 [==============================] - 2s 3ms/step - loss: 0.2690 - accuracy: 0.8993 - val_loss: 0.3296 - val_accuracy: 0.8803\n",
      "Epoch 9/70\n",
      "797/797 [==============================] - 2s 3ms/step - loss: 0.2564 - accuracy: 0.9045 - val_loss: 0.3280 - val_accuracy: 0.8847\n",
      "Epoch 10/70\n",
      "797/797 [==============================] - 2s 3ms/step - loss: 0.2473 - accuracy: 0.9065 - val_loss: 0.3256 - val_accuracy: 0.8817\n",
      "Epoch 11/70\n",
      "797/797 [==============================] - 2s 3ms/step - loss: 0.2406 - accuracy: 0.9104 - val_loss: 0.3397 - val_accuracy: 0.8806\n",
      "Epoch 12/70\n",
      "797/797 [==============================] - 2s 2ms/step - loss: 0.2302 - accuracy: 0.9133 - val_loss: 0.3458 - val_accuracy: 0.8808\n",
      "Epoch 13/70\n",
      "797/797 [==============================] - 2s 2ms/step - loss: 0.2240 - accuracy: 0.9143 - val_loss: 0.3385 - val_accuracy: 0.8867\n",
      "Epoch 14/70\n",
      "797/797 [==============================] - 2s 2ms/step - loss: 0.2149 - accuracy: 0.9192 - val_loss: 0.3356 - val_accuracy: 0.8898\n",
      "Epoch 15/70\n",
      "797/797 [==============================] - 2s 2ms/step - loss: 0.2087 - accuracy: 0.9211 - val_loss: 0.3276 - val_accuracy: 0.8884\n",
      "Epoch 16/70\n",
      "797/797 [==============================] - 2s 2ms/step - loss: 0.2042 - accuracy: 0.9230 - val_loss: 0.3283 - val_accuracy: 0.8924\n",
      "Epoch 17/70\n",
      "797/797 [==============================] - 2s 3ms/step - loss: 0.1966 - accuracy: 0.9246 - val_loss: 0.3741 - val_accuracy: 0.8811\n",
      "Epoch 18/70\n",
      "797/797 [==============================] - 2s 2ms/step - loss: 0.1935 - accuracy: 0.9260 - val_loss: 0.3379 - val_accuracy: 0.8863\n",
      "Epoch 19/70\n",
      "797/797 [==============================] - 2s 3ms/step - loss: 0.1865 - accuracy: 0.9292 - val_loss: 0.3495 - val_accuracy: 0.8882\n",
      "Epoch 20/70\n",
      "797/797 [==============================] - 2s 2ms/step - loss: 0.1823 - accuracy: 0.9311 - val_loss: 0.3372 - val_accuracy: 0.8932\n",
      "Epoch 21/70\n",
      "797/797 [==============================] - 2s 2ms/step - loss: 0.1749 - accuracy: 0.9339 - val_loss: 0.3472 - val_accuracy: 0.8902\n",
      "Epoch 22/70\n",
      "797/797 [==============================] - 2s 2ms/step - loss: 0.1726 - accuracy: 0.9341 - val_loss: 0.3898 - val_accuracy: 0.8869\n",
      "Epoch 23/70\n",
      "797/797 [==============================] - 2s 2ms/step - loss: 0.1707 - accuracy: 0.9353 - val_loss: 0.3513 - val_accuracy: 0.8887\n",
      "Epoch 24/70\n",
      "797/797 [==============================] - 2s 2ms/step - loss: 0.1645 - accuracy: 0.9369 - val_loss: 0.4169 - val_accuracy: 0.8750\n",
      "Epoch 25/70\n",
      "797/797 [==============================] - 2s 2ms/step - loss: 0.1634 - accuracy: 0.9382 - val_loss: 0.3477 - val_accuracy: 0.8903\n",
      "Epoch 26/70\n",
      "797/797 [==============================] - 2s 2ms/step - loss: 0.1533 - accuracy: 0.9407 - val_loss: 0.3686 - val_accuracy: 0.8888\n"
     ]
    }
   ],
   "source": [
    "#We now try with 5 hidden layers, 128x4 each layer + 64 neurons on last & Adam optimizer\n",
    "model3 = create_model_mlp(num_hidden_layers = 5, num_of_neurons=128, activation_hidden=\"relu\", optimizer=tf.keras.optimizers.Adam())\n",
    "history = model3.fit(\n",
    "    x_train, y_train, epochs=epochs, batch_size=batch_size, callbacks=callbacks, validation_data = (x_dev, y_dev)\n",
    ")"
   ]
  },
  {
   "cell_type": "code",
   "execution_count": 18,
   "metadata": {},
   "outputs": [
    {
     "name": "stdout",
     "output_type": "stream",
     "text": [
      "313/313 [==============================] - 0s 1ms/step - loss: 0.3525 - accuracy: 0.8889\n",
      "0.8888999819755554\n"
     ]
    }
   ],
   "source": [
    "_, val_accuracy = model3.evaluate(x_test,y_test)\n",
    "print(val_accuracy)"
   ]
  },
  {
   "cell_type": "code",
   "execution_count": 19,
   "metadata": {},
   "outputs": [
    {
     "name": "stdout",
     "output_type": "stream",
     "text": [
      "the model with 3 extra layers has less val accuracy than the previous with 2 hidden (0.888700008392334), therefore we discard it\n"
     ]
    }
   ],
   "source": [
    "print(\"the model with 3 extra layers has less val accuracy than the previous with 2 hidden ({}), therefore we discard it\".format(model2.evaluate(x_test,y_test, verbose=0)[1]))"
   ]
  },
  {
   "cell_type": "code",
   "execution_count": 20,
   "metadata": {},
   "outputs": [
    {
     "name": "stdout",
     "output_type": "stream",
     "text": [
      "probability distribution of each class [1.2793032e-09 8.6692387e-09 1.4937847e-08 9.8708650e-09 6.1015260e-09\n",
      " 3.8361594e-03 3.4105510e-09 5.1871780e-03 8.1754497e-09 9.9097657e-01]\n",
      "Model predicts this is Ankle Boot and the true label is Ankle Boot\n"
     ]
    }
   ],
   "source": [
    "predictions = model2.predict(x_test)\n",
    "print(\"probability distribution of each class\", predictions[0]) \n",
    "print(\"Model predicts this is\",label_description.get(np.argmax(predictions[0])), \"and the true label is\", label_description.get(np.argmax(y_test[0])))"
   ]
  },
  {
   "cell_type": "code",
   "execution_count": 21,
   "metadata": {},
   "outputs": [
    {
     "name": "stdout",
     "output_type": "stream",
     "text": [
      "Epoch 1/70\n",
      "797/797 [==============================] - 3s 3ms/step - loss: 0.5342 - accuracy: 0.8122 - val_loss: 0.4060 - val_accuracy: 0.8537\n",
      "Epoch 2/70\n",
      "797/797 [==============================] - 2s 3ms/step - loss: 0.3919 - accuracy: 0.8584 - val_loss: 0.4013 - val_accuracy: 0.8540\n",
      "Epoch 3/70\n",
      "797/797 [==============================] - 2s 2ms/step - loss: 0.3603 - accuracy: 0.8690 - val_loss: 0.3519 - val_accuracy: 0.8708\n",
      "Epoch 4/70\n",
      "797/797 [==============================] - 2s 2ms/step - loss: 0.3366 - accuracy: 0.8759 - val_loss: 0.3342 - val_accuracy: 0.8819\n",
      "Epoch 5/70\n",
      "797/797 [==============================] - 2s 2ms/step - loss: 0.3186 - accuracy: 0.8829 - val_loss: 0.3352 - val_accuracy: 0.8766\n",
      "Epoch 6/70\n",
      "797/797 [==============================] - 2s 2ms/step - loss: 0.3031 - accuracy: 0.8887 - val_loss: 0.3261 - val_accuracy: 0.8806\n",
      "Epoch 7/70\n",
      "797/797 [==============================] - 2s 2ms/step - loss: 0.2918 - accuracy: 0.8915 - val_loss: 0.3433 - val_accuracy: 0.8758\n",
      "Epoch 8/70\n",
      "797/797 [==============================] - 2s 3ms/step - loss: 0.2831 - accuracy: 0.8946 - val_loss: 0.3412 - val_accuracy: 0.8754\n",
      "Epoch 9/70\n",
      "797/797 [==============================] - 2s 2ms/step - loss: 0.2754 - accuracy: 0.8973 - val_loss: 0.3082 - val_accuracy: 0.8891\n",
      "Epoch 10/70\n",
      "797/797 [==============================] - 2s 2ms/step - loss: 0.2655 - accuracy: 0.8998 - val_loss: 0.3170 - val_accuracy: 0.8882\n",
      "Epoch 11/70\n",
      "797/797 [==============================] - 2s 2ms/step - loss: 0.2550 - accuracy: 0.9035 - val_loss: 0.3862 - val_accuracy: 0.8680\n",
      "Epoch 12/70\n",
      "797/797 [==============================] - 2s 2ms/step - loss: 0.2508 - accuracy: 0.9060 - val_loss: 0.3260 - val_accuracy: 0.8882\n",
      "Epoch 13/70\n",
      "797/797 [==============================] - 2s 2ms/step - loss: 0.2433 - accuracy: 0.9066 - val_loss: 0.3267 - val_accuracy: 0.8838\n",
      "Epoch 14/70\n",
      "797/797 [==============================] - 2s 3ms/step - loss: 0.2355 - accuracy: 0.9110 - val_loss: 0.3059 - val_accuracy: 0.8920\n",
      "Epoch 15/70\n",
      "797/797 [==============================] - 2s 2ms/step - loss: 0.2305 - accuracy: 0.9124 - val_loss: 0.2962 - val_accuracy: 0.8926\n",
      "Epoch 16/70\n",
      "797/797 [==============================] - 2s 2ms/step - loss: 0.2263 - accuracy: 0.9156 - val_loss: 0.3007 - val_accuracy: 0.8938\n",
      "Epoch 17/70\n",
      "797/797 [==============================] - 2s 2ms/step - loss: 0.2227 - accuracy: 0.9150 - val_loss: 0.3211 - val_accuracy: 0.8833\n",
      "Epoch 18/70\n",
      "797/797 [==============================] - 2s 3ms/step - loss: 0.2198 - accuracy: 0.9154 - val_loss: 0.3093 - val_accuracy: 0.8920\n",
      "Epoch 19/70\n",
      "797/797 [==============================] - 2s 2ms/step - loss: 0.2134 - accuracy: 0.9192 - val_loss: 0.3451 - val_accuracy: 0.8841\n",
      "Epoch 20/70\n",
      "797/797 [==============================] - 2s 2ms/step - loss: 0.2123 - accuracy: 0.9187 - val_loss: 0.3101 - val_accuracy: 0.8917\n",
      "Epoch 21/70\n",
      "797/797 [==============================] - 2s 2ms/step - loss: 0.2090 - accuracy: 0.9209 - val_loss: 0.2999 - val_accuracy: 0.8932\n",
      "Epoch 22/70\n",
      "797/797 [==============================] - 2s 2ms/step - loss: 0.1993 - accuracy: 0.9250 - val_loss: 0.3138 - val_accuracy: 0.8911\n",
      "313/313 [==============================] - 0s 1ms/step - loss: 0.3279 - accuracy: 0.8868\n",
      "Test accuracy is  0.8867999911308289\n",
      "This is a tiny improvement over model2, but as dropout regularizes the model we will keep this as our baseline model\n"
     ]
    }
   ],
   "source": [
    "#model with 2 hidden layers (same as model2) but now with dropout\n",
    "model4 = create_model_mlp(num_hidden_layers = 2 ,num_of_neurons=128, activation_hidden=\"relu\", optimizer=tf.keras.optimizers.Adam(), dropout=0.1)\n",
    "history4 = model4.fit(\n",
    "    x_train, y_train, epochs=epochs, batch_size=batch_size, callbacks=callbacks, validation_data = (x_dev, y_dev)\n",
    ")\n",
    "\n",
    "print(\"Test accuracy is \",model4.evaluate(x_test,y_test)[1])\n",
    "print(\"This is a tiny improvement over model2, but as dropout regularizes the model we will keep this as our baseline model\")"
   ]
  },
  {
   "cell_type": "code",
   "execution_count": 22,
   "metadata": {},
   "outputs": [
    {
     "data": {
      "image/png": "[encoded data removed]",
      "text/plain": [
       "<Figure size 576x432 with 1 Axes>"
      ]
     },
     "metadata": {
      "needs_background": "light"
     },
     "output_type": "display_data"
    }
   ],
   "source": [
    "plt.figure(figsize=(8, 6))\n",
    "plt.plot(history4.history['accuracy'])\n",
    "plt.plot(history4.history['val_accuracy'])\n",
    "plt.title('Model Accuracy')\n",
    "plt.ylabel('Accuracy')\n",
    "plt.xlabel('Epoch')\n",
    "plt.legend(['train', 'test'], loc='upper left')\n",
    "plt.show()"
   ]
  },
  {
   "cell_type": "markdown",
   "metadata": {},
   "source": [
    "<h4>CNN's"
   ]
  },
  {
   "cell_type": "code",
   "execution_count": 23,
   "metadata": {},
   "outputs": [],
   "source": [
    "# Reshape training and testing image\n",
    "#we need to reshape your data is that Tensorflow expects a certain input shape for its Deep Learning Model, i.e., in this case, a Convolution Neural Network, specifically\n",
    "#(<number of images>, <image x_dim>, <image y_dim>, <number of channels>)\n",
    "train_X_cnn = x_train.reshape(-1, 28, 28, 1)\n",
    "dev_X_cnn = x_dev.reshape(-1, 28, 28, 1)\n",
    "test_x_cnn = x_test.reshape(-1,28,28,1)"
   ]
  },
  {
   "cell_type": "code",
   "execution_count": 24,
   "metadata": {},
   "outputs": [],
   "source": [
    "model5 = tf.keras.models.Sequential()\n",
    "model5.add(tf.keras.layers.Conv2D(32, (3, 3), activation='relu', input_shape=(28,28,1)))\n",
    "model5.add(tf.keras.layers.MaxPooling2D((2, 2)))\n",
    "model5.add(tf.keras.layers.Conv2D(64, (3, 3), activation='relu'))\n",
    "model5.add(tf.keras.layers.MaxPooling2D((2, 2)))\n",
    "model5.add(tf.keras.layers.Conv2D(64, (3, 3), activation='relu'))\n",
    "model5.add(tf.keras.layers.Flatten())\n",
    "model5.add(tf.keras.layers.Dense(64, activation='relu'))\n",
    "model5.add(tf.keras.layers.Dense(10, activation = \"softmax\"))\n",
    "model5.compile(loss='categorical_crossentropy', optimizer= tf.keras.optimizers.Adam(), metrics=['accuracy'])"
   ]
  },
  {
   "cell_type": "code",
   "execution_count": 25,
   "metadata": {},
   "outputs": [
    {
     "name": "stdout",
     "output_type": "stream",
     "text": [
      "Epoch 1/70\n",
      "797/797 [==============================] - 21s 26ms/step - loss: 0.5596 - accuracy: 0.7948 - val_loss: 0.3901 - val_accuracy: 0.8586\n",
      "Epoch 2/70\n",
      "797/797 [==============================] - 20s 26ms/step - loss: 0.3543 - accuracy: 0.8723 - val_loss: 0.3299 - val_accuracy: 0.8804\n",
      "Epoch 3/70\n",
      "797/797 [==============================] - 20s 25ms/step - loss: 0.3033 - accuracy: 0.8886 - val_loss: 0.3074 - val_accuracy: 0.8892\n",
      "Epoch 4/70\n",
      "797/797 [==============================] - 20s 25ms/step - loss: 0.2730 - accuracy: 0.8995 - val_loss: 0.2837 - val_accuracy: 0.8966\n",
      "Epoch 5/70\n",
      "797/797 [==============================] - 21s 26ms/step - loss: 0.2493 - accuracy: 0.9079 - val_loss: 0.2794 - val_accuracy: 0.8971\n",
      "Epoch 6/70\n",
      "797/797 [==============================] - 21s 26ms/step - loss: 0.2294 - accuracy: 0.9148 - val_loss: 0.2705 - val_accuracy: 0.9008\n",
      "Epoch 7/70\n",
      "797/797 [==============================] - 20s 25ms/step - loss: 0.2088 - accuracy: 0.9227 - val_loss: 0.2798 - val_accuracy: 0.9032\n",
      "Epoch 8/70\n",
      "797/797 [==============================] - 20s 25ms/step - loss: 0.1945 - accuracy: 0.9274 - val_loss: 0.2908 - val_accuracy: 0.8982\n",
      "Epoch 9/70\n",
      "797/797 [==============================] - 20s 25ms/step - loss: 0.1816 - accuracy: 0.9331 - val_loss: 0.2555 - val_accuracy: 0.9088\n",
      "Epoch 10/70\n",
      "797/797 [==============================] - 20s 25ms/step - loss: 0.1633 - accuracy: 0.9391 - val_loss: 0.2804 - val_accuracy: 0.9052\n",
      "Epoch 11/70\n",
      "797/797 [==============================] - 20s 25ms/step - loss: 0.1540 - accuracy: 0.9426 - val_loss: 0.2872 - val_accuracy: 0.9022\n",
      "Epoch 12/70\n",
      "797/797 [==============================] - 20s 25ms/step - loss: 0.1395 - accuracy: 0.9478 - val_loss: 0.2708 - val_accuracy: 0.9061\n",
      "Epoch 13/70\n",
      "797/797 [==============================] - 20s 25ms/step - loss: 0.1282 - accuracy: 0.9519 - val_loss: 0.3076 - val_accuracy: 0.8957\n",
      "Epoch 14/70\n",
      "797/797 [==============================] - 20s 26ms/step - loss: 0.1174 - accuracy: 0.9556 - val_loss: 0.2800 - val_accuracy: 0.9053\n",
      "Epoch 15/70\n",
      "797/797 [==============================] - 21s 26ms/step - loss: 0.1073 - accuracy: 0.9595 - val_loss: 0.3055 - val_accuracy: 0.9078\n"
     ]
    }
   ],
   "source": [
    "history5 = model5.fit(\n",
    "    train_X_cnn, y_train, epochs=epochs, batch_size=batch_size, callbacks=callbacks, validation_data = (dev_X_cnn, y_dev)\n",
    ")"
   ]
  },
  {
   "cell_type": "code",
   "execution_count": 26,
   "metadata": {},
   "outputs": [
    {
     "name": "stdout",
     "output_type": "stream",
     "text": [
      "0.9072999954223633\n"
     ]
    }
   ],
   "source": [
    "_, val_accuracy = model5.evaluate(test_x_cnn,y_test, verbose=0)\n",
    "print(val_accuracy)"
   ]
  },
  {
   "cell_type": "code",
   "execution_count": 27,
   "metadata": {},
   "outputs": [],
   "source": [
    "#final CNN (same as before) but with dropout & batch norm\n",
    "\n",
    "model6 = tf.keras.models.Sequential()\n",
    "model6.add(tf.keras.layers.Conv2D(32, (3, 3), activation='relu', input_shape=(28,28,1)))\n",
    "model6.add(tf.keras.layers.BatchNormalization())\n",
    "model6.add(tf.keras.layers.MaxPooling2D((2, 2)))\n",
    "model6.add(tf.keras.layers.Dropout(0.2))\n",
    "model6.add(tf.keras.layers.Conv2D(64, (3, 3), activation='relu'))\n",
    "model6.add(tf.keras.layers.BatchNormalization())\n",
    "model6.add(tf.keras.layers.MaxPooling2D((2, 2)))\n",
    "model6.add(tf.keras.layers.Dropout(0.2))\n",
    "model6.add(tf.keras.layers.Conv2D(64, (3, 3), activation='relu'))\n",
    "model6.add(tf.keras.layers.Flatten())\n",
    "model6.add(tf.keras.layers.Dense(64, activation='relu'))\n",
    "model6.add(tf.keras.layers.Dense(10, activation = \"softmax\"))\n",
    "model6.compile(loss='categorical_crossentropy', optimizer= tf.keras.optimizers.Adam(), metrics=['accuracy'])"
   ]
  },
  {
   "cell_type": "code",
   "execution_count": 28,
   "metadata": {},
   "outputs": [
    {
     "name": "stdout",
     "output_type": "stream",
     "text": [
      "Epoch 1/70\n",
      "797/797 [==============================] - 34s 42ms/step - loss: 0.4857 - accuracy: 0.8212 - val_loss: 0.3624 - val_accuracy: 0.8670\n",
      "Epoch 2/70\n",
      "797/797 [==============================] - 33s 42ms/step - loss: 0.3297 - accuracy: 0.8782 - val_loss: 0.3042 - val_accuracy: 0.8882\n",
      "Epoch 3/70\n",
      "797/797 [==============================] - 33s 42ms/step - loss: 0.2929 - accuracy: 0.8925 - val_loss: 0.2924 - val_accuracy: 0.8926\n",
      "Epoch 4/70\n",
      "797/797 [==============================] - 33s 42ms/step - loss: 0.2668 - accuracy: 0.9006 - val_loss: 0.2726 - val_accuracy: 0.9013\n",
      "Epoch 5/70\n",
      "797/797 [==============================] - 34s 42ms/step - loss: 0.2504 - accuracy: 0.9062 - val_loss: 0.2637 - val_accuracy: 0.9061\n",
      "Epoch 6/70\n",
      "797/797 [==============================] - 34s 42ms/step - loss: 0.2374 - accuracy: 0.9110 - val_loss: 0.2632 - val_accuracy: 0.9031\n",
      "Epoch 7/70\n",
      "797/797 [==============================] - 33s 42ms/step - loss: 0.2227 - accuracy: 0.9162 - val_loss: 0.2780 - val_accuracy: 0.9010\n",
      "Epoch 8/70\n",
      "797/797 [==============================] - 33s 42ms/step - loss: 0.2146 - accuracy: 0.9189 - val_loss: 0.2701 - val_accuracy: 0.9021\n",
      "Epoch 9/70\n",
      "797/797 [==============================] - 33s 42ms/step - loss: 0.2017 - accuracy: 0.9235 - val_loss: 0.2440 - val_accuracy: 0.9116\n",
      "Epoch 10/70\n",
      "797/797 [==============================] - 33s 42ms/step - loss: 0.1943 - accuracy: 0.9263 - val_loss: 0.2765 - val_accuracy: 0.9031\n",
      "Epoch 11/70\n",
      "797/797 [==============================] - 34s 43ms/step - loss: 0.1864 - accuracy: 0.9291 - val_loss: 0.2607 - val_accuracy: 0.9100\n",
      "Epoch 12/70\n",
      "797/797 [==============================] - 35s 43ms/step - loss: 0.1810 - accuracy: 0.9307 - val_loss: 0.2734 - val_accuracy: 0.9011\n",
      "Epoch 13/70\n",
      "797/797 [==============================] - 36s 45ms/step - loss: 0.1743 - accuracy: 0.9335 - val_loss: 0.2494 - val_accuracy: 0.9134\n",
      "Epoch 14/70\n",
      "797/797 [==============================] - 35s 43ms/step - loss: 0.1692 - accuracy: 0.9356 - val_loss: 0.2532 - val_accuracy: 0.9130\n",
      "Epoch 15/70\n",
      "797/797 [==============================] - 36s 45ms/step - loss: 0.1634 - accuracy: 0.9376 - val_loss: 0.2544 - val_accuracy: 0.9148\n",
      "Epoch 16/70\n",
      "797/797 [==============================] - 37s 47ms/step - loss: 0.1599 - accuracy: 0.9386 - val_loss: 0.2716 - val_accuracy: 0.9132\n",
      "Epoch 17/70\n",
      "797/797 [==============================] - 35s 44ms/step - loss: 0.1537 - accuracy: 0.9419 - val_loss: 0.2616 - val_accuracy: 0.9128\n",
      "Epoch 18/70\n",
      "797/797 [==============================] - 39s 49ms/step - loss: 0.1485 - accuracy: 0.9428 - val_loss: 0.2716 - val_accuracy: 0.9140\n",
      "Epoch 19/70\n",
      "797/797 [==============================] - 33s 42ms/step - loss: 0.1470 - accuracy: 0.9428 - val_loss: 0.2644 - val_accuracy: 0.9138\n",
      "Epoch 20/70\n",
      "797/797 [==============================] - 34s 43ms/step - loss: 0.1430 - accuracy: 0.9454 - val_loss: 0.2572 - val_accuracy: 0.9139\n",
      "Epoch 21/70\n",
      "797/797 [==============================] - 35s 44ms/step - loss: 0.1404 - accuracy: 0.9457 - val_loss: 0.3150 - val_accuracy: 0.9071\n",
      "Accuracy on test dataset= 0.9136999845504761\n"
     ]
    }
   ],
   "source": [
    "history6 = model6.fit(\n",
    "    train_X_cnn, y_train, epochs=epochs, batch_size=batch_size, callbacks=callbacks, validation_data = (dev_X_cnn, y_dev)\n",
    ")\n",
    "_, val_accuracy = model6.evaluate(test_x_cnn,y_test, verbose=0)\n",
    "print(\"Accuracy on test dataset=\", val_accuracy)\n",
    "\n",
    "predictions = model6.predict(test_x_cnn)\n"
   ]
  },
  {
   "cell_type": "markdown",
   "metadata": {},
   "source": [
    "The model6 has even better accuracy on test dataset then model5, after using batch norm and dropout simultaneously."
   ]
  },
  {
   "cell_type": "code",
   "execution_count": 29,
   "metadata": {},
   "outputs": [],
   "source": [
    "#visualization of predictions over actual values:\n",
    "\n",
    "def plot_image(idx, predictions_array, true_label, img):\n",
    "  #true_label, img = true_label[idx], img[idx]\n",
    "  plt.grid(False)\n",
    "  plt.xticks([])\n",
    "  plt.yticks([])\n",
    "\n",
    "  plt.imshow(img, cmap=\"gray\")\n",
    "\n",
    "  predicted_label = np.argmax(predictions_array)\n",
    "  if predicted_label == true_label.argmax():\n",
    "    color = 'blue'\n",
    "  else:\n",
    "    color = 'red'\n",
    "\n",
    "  plt.xlabel(\"{} - {:2.0f}% ({})\".format(label_description.get(predicted_label),\n",
    "                                100*np.max(predictions_array),\n",
    "                                label_description.get(true_label.argmax())),\n",
    "                                color=color)\n",
    "\n",
    "def plot_value_array(idx, predictions_array, true_label):\n",
    "  plt.grid(False)\n",
    "  plt.xticks(range(10))\n",
    "  plt.yticks([])\n",
    "  thisplot = plt.bar(range(10), predictions_array, color=\"#777777\")\n",
    "  plt.ylim([0, 1])\n",
    "  predicted_label = np.argmax(predictions_array)\n",
    "\n",
    "  thisplot[predicted_label].set_color('red')\n",
    "  thisplot[true_label.argmax()].set_color('blue')"
   ]
  },
  {
   "cell_type": "code",
   "execution_count": 30,
   "metadata": {},
   "outputs": [
    {
     "data": {
      "image/png": "[encoded data removed]",
      "text/plain": [
       "<Figure size 864x720 with 30 Axes>"
      ]
     },
     "metadata": {
      "needs_background": "light"
     },
     "output_type": "display_data"
    }
   ],
   "source": [
    "# Plot the first X test images, their predicted labels, and the true labels.\n",
    "# Color correct predictions in blue and incorrect predictions in red.\n",
    "num_rows = 5\n",
    "num_cols = 3\n",
    "num_images = num_rows*num_cols\n",
    "plt.figure(figsize=(2*2*num_cols, 2*num_rows))\n",
    "for i in range(num_images):\n",
    "  plt.subplot(num_rows, 2*num_cols, 2*i+1)\n",
    "  plot_image(i, predictions[i], y_test[i], x_test[i].reshape(28,28))\n",
    "  plt.subplot(num_rows, 2*num_cols, 2*i+2)\n",
    "  plot_value_array(i,  predictions[i],  y_test[i])\n",
    "plt.tight_layout()\n",
    "plt.show()"
   ]
  },
  {
   "cell_type": "code",
   "execution_count": null,
   "metadata": {},
   "outputs": [],
   "source": []
  }
 ],
 "metadata": {
  "interpreter": {
   "hash": "697a9b082ea1da0baca53618b83ff9ac95e2f2c56db53261fa2a7ee24860c788"
  },
  "kernelspec": {
   "display_name": "Python 3.9.7 ('tf')",
   "language": "python",
   "name": "python3"
  },
  "language_info": {
   "codemirror_mode": {
    "name": "ipython",
    "version": 3
   },
   "file_extension": ".py",
   "mimetype": "text/x-python",
   "name": "python",
   "nbconvert_exporter": "python",
   "pygments_lexer": "ipython3",
   "version": "3.9.7"
  },
  "orig_nbformat": 4
 },
 "nbformat": 4,
 "nbformat_minor": 2
}
