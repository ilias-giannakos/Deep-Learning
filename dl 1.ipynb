{
 "cells": [
  {
   "cell_type": "markdown",
   "metadata": {},
   "source": [
    "<h1>Deep Learning\n",
    "Assignment 1 - Fashion MNIST Dataset\n",
    "<h3>Ilias Giannakos - p3352007<br>\n",
    "Elena Adamidi - p3352002<br>"
   ]
  },
  {
   "cell_type": "markdown",
   "metadata": {},
   "source": [
    "<h5> Import Necessary Libraries"
   ]
  },
  {
   "cell_type": "code",
   "execution_count": 1,
   "metadata": {},
   "outputs": [],
   "source": [
    "import numpy as np\n",
    "import tensorflow as tf\n",
    "from tensorflow.keras.datasets import fashion_mnist\n",
    "from sklearn.model_selection import train_test_split\n",
    "import matplotlib.pyplot as plt\n"
   ]
  },
  {
   "cell_type": "markdown",
   "metadata": {},
   "source": [
    "Set Seed for reproducibility"
   ]
  },
  {
   "cell_type": "code",
   "execution_count": 2,
   "metadata": {},
   "outputs": [],
   "source": [
    "from numpy.random import seed\n",
    "from tensorflow.random import set_seed\n",
    "seed(42)\n",
    "set_seed(42)"
   ]
  },
  {
   "cell_type": "markdown",
   "metadata": {},
   "source": [
    "<h5> Load Fashion MNIST dataset and check it has been loaded correctly"
   ]
  },
  {
   "cell_type": "code",
   "execution_count": 55,
   "metadata": {},
   "outputs": [],
   "source": [
    "(x_train, y_train), (x_test, y_test) = fashion_mnist.load_data()\n",
    "\n",
    "#check that fashion mnist has been loaded correctly\n",
    "assert x_train.shape == (60000, 28, 28)\n",
    "assert x_test.shape == (10000, 28, 28)\n",
    "assert y_train.shape == (60000,)\n",
    "assert y_test.shape == (10000,)"
   ]
  },
  {
   "cell_type": "markdown",
   "metadata": {},
   "source": [
    "<h5> Check the distribution of each label"
   ]
  },
  {
   "cell_type": "code",
   "execution_count": 56,
   "metadata": {},
   "outputs": [
    {
     "name": "stdout",
     "output_type": "stream",
     "text": [
      "[6000 6000 6000 6000 6000 6000 6000 6000 6000 6000]\n",
      "[1000 1000 1000 1000 1000 1000 1000 1000 1000 1000]\n"
     ]
    }
   ],
   "source": [
    "print(np.bincount(y_train))\n",
    "print(np.bincount(y_test))\n",
    "#train & test dataset is balanced (same number of occurencies between different clothes)"
   ]
  },
  {
   "cell_type": "markdown",
   "metadata": {},
   "source": [
    "<h5> Map labels to their original description"
   ]
  },
  {
   "cell_type": "code",
   "execution_count": 57,
   "metadata": {},
   "outputs": [
    {
     "name": "stdout",
     "output_type": "stream",
     "text": [
      "Total fashion mnist categories are 10\n"
     ]
    }
   ],
   "source": [
    "label_description = {0: \"T-shirt\",1: \"Trouser\",\n",
    "2: \"Pullover\", 3: \"Dress\", \n",
    "4: \"Coat\", 5:\"Sandal\",6:\"Shirt\",\n",
    "7:\"Sneaker\",8:\"Bag\",9:\"Ankle Boot\"}\n",
    "\n",
    "print(\"Total fashion mnist categories are\",len(label_description))"
   ]
  },
  {
   "cell_type": "markdown",
   "metadata": {},
   "source": [
    "<h5> Preprocessing"
   ]
  },
  {
   "cell_type": "code",
   "execution_count": 58,
   "metadata": {},
   "outputs": [],
   "source": [
    "#make y values categorical\n",
    "y_train = tf.keras.utils.to_categorical(y_train, len(label_description))\n",
    "y_test = tf.keras.utils.to_categorical(y_test, len(label_description))\n",
    "\n",
    "#normalize pixels\n",
    "x_train = (x_train.astype(\"float32\") / 255)\n",
    "x_test = (x_test.astype(\"float32\") / 255)\n",
    "\n",
    "#flatten the train and test data\n",
    "x_train = x_train.reshape(len(x_train),784)\n",
    "x_test = x_test.reshape(len(x_test),784)\n",
    "\n",
    "#create a development set from training set for tuning\n",
    "x_train, x_dev, y_train, y_dev = train_test_split(x_train,y_train, test_size=0.15, random_state=42)"
   ]
  },
  {
   "cell_type": "markdown",
   "metadata": {},
   "source": [
    "Map the one-hot-encoded y values back to human-readable descriptions"
   ]
  },
  {
   "cell_type": "code",
   "execution_count": 29,
   "metadata": {},
   "outputs": [
    {
     "name": "stdout",
     "output_type": "stream",
     "text": [
      "Y train vector of index 4 is: [0. 0. 0. 0. 0. 0. 1. 0. 0. 0.]\n",
      "Y train of index 4 original value is: 6\n"
     ]
    }
   ],
   "source": [
    "idx = 4\n",
    "print(\"Y train vector of index {} is:\".format(idx),y_train[idx])\n",
    "print(\"Y train of index {} original value is:\".format(idx),y_train[idx].argmax())"
   ]
  },
  {
   "cell_type": "markdown",
   "metadata": {},
   "source": [
    "Visualize the data"
   ]
  },
  {
   "cell_type": "code",
   "execution_count": 30,
   "metadata": {},
   "outputs": [
    {
     "data": {
      "image/png": "[encoded data removed]",
      "text/plain": [
       "<Figure size 720x720 with 10 Axes>"
      ]
     },
     "metadata": {},
     "output_type": "display_data"
    }
   ],
   "source": [
    "plt.figure(figsize=(10,10))\n",
    "\n",
    "for i in range(10):\n",
    "    plt.subplot(5,5,i+1)\n",
    "    plt.xticks([])\n",
    "    plt.yticks([])\n",
    "    plt.grid(False)\n",
    "    pixels = x_train[i].reshape((28,28))\n",
    "    label = y_train[i].argmax() #with argmax we can get back the original value\n",
    "    \n",
    "    #plt.title('Label is {}'.format(label_description.get(label)))\n",
    "    plt.imshow(pixels, cmap='gray')\n",
    "    plt.xlabel(\"This is {}\".format(label_description.get(label)))\n",
    "\n",
    "plt.show()\n"
   ]
  },
  {
   "cell_type": "markdown",
   "metadata": {},
   "source": [
    "<h4>Multi Layer Perceptron (MLP) Modelling"
   ]
  },
  {
   "cell_type": "code",
   "execution_count": 31,
   "metadata": {},
   "outputs": [],
   "source": [
    "def create_model_mlp(num_hidden_layers: int, num_of_neurons: int, activation_hidden:str = \"relu\", optimizer = None, epochs:int = 100, dropout:int = None):\n",
    "    model = tf.keras.Sequential()\n",
    "    model.add(tf.keras.layers.Input(shape=784, name=\"Input layer\"))\n",
    "    for layer in range(num_hidden_layers-1):\n",
    "        model.add(tf.keras.layers.Dense(num_of_neurons, activation=activation_hidden))\n",
    "        if dropout:\n",
    "            model.add(tf.keras.layers.Dropout(dropout))\n",
    "    model.add(tf.keras.layers.Dense(int(num_of_neurons/2), activation=activation_hidden))\n",
    "    model.add(tf.keras.layers.Dense(len(label_description), activation=\"softmax\"))\n",
    "    opt = optimizer\n",
    "    model.compile(loss='categorical_crossentropy', optimizer= opt, metrics=['accuracy'])\n",
    "    return model\n",
    "    \n",
    "\n"
   ]
  },
  {
   "cell_type": "markdown",
   "metadata": {},
   "source": [
    "Default Values:"
   ]
  },
  {
   "cell_type": "code",
   "execution_count": 32,
   "metadata": {},
   "outputs": [],
   "source": [
    "epochs = 70\n",
    "batch_size = 64\n",
    "callbacks = tf.keras.callbacks.EarlyStopping(monitor=\"val_accuracy\",\n",
    "    min_delta=0,\n",
    "    patience=6,\n",
    "    verbose=0,\n",
    "    mode=\"auto\",\n",
    "    baseline=None,\n",
    "    restore_best_weights=True)"
   ]
  },
  {
   "cell_type": "code",
   "execution_count": 34,
   "metadata": {},
   "outputs": [],
   "source": [
    "#baseline model, 2 hidden layers, 128 & 64 neurons each layers & SGD optimizer\n",
    "model = create_model_mlp(num_hidden_layers =2 ,num_of_neurons=128, activation_hidden=\"relu\", optimizer=tf.keras.optimizers.SGD())"
   ]
  },
  {
   "cell_type": "code",
   "execution_count": 35,
   "metadata": {},
   "outputs": [
    {
     "name": "stdout",
     "output_type": "stream",
     "text": [
      "Epoch 1/70\n",
      "797/797 [==============================] - 3s 3ms/step - loss: 0.9511 - accuracy: 0.6982 - val_loss: 0.6524 - val_accuracy: 0.7828\n",
      "Epoch 2/70\n",
      "797/797 [==============================] - 2s 3ms/step - loss: 0.5726 - accuracy: 0.8051 - val_loss: 0.5429 - val_accuracy: 0.8157\n",
      "Epoch 3/70\n",
      "797/797 [==============================] - 2s 2ms/step - loss: 0.5096 - accuracy: 0.8222 - val_loss: 0.5010 - val_accuracy: 0.8266\n",
      "Epoch 4/70\n",
      "797/797 [==============================] - 2s 2ms/step - loss: 0.4757 - accuracy: 0.8356 - val_loss: 0.4760 - val_accuracy: 0.8368\n",
      "Epoch 5/70\n",
      "797/797 [==============================] - 2s 2ms/step - loss: 0.4550 - accuracy: 0.8419 - val_loss: 0.4580 - val_accuracy: 0.8396\n",
      "Epoch 6/70\n",
      "797/797 [==============================] - 2s 2ms/step - loss: 0.4392 - accuracy: 0.8471 - val_loss: 0.4542 - val_accuracy: 0.8363\n",
      "Epoch 7/70\n",
      "797/797 [==============================] - 2s 2ms/step - loss: 0.4255 - accuracy: 0.8513 - val_loss: 0.4318 - val_accuracy: 0.8463\n",
      "Epoch 8/70\n",
      "797/797 [==============================] - 2s 2ms/step - loss: 0.4146 - accuracy: 0.8547 - val_loss: 0.4388 - val_accuracy: 0.8463\n",
      "Epoch 9/70\n",
      "797/797 [==============================] - 2s 2ms/step - loss: 0.4056 - accuracy: 0.8572 - val_loss: 0.4160 - val_accuracy: 0.8550\n",
      "Epoch 10/70\n",
      "797/797 [==============================] - 2s 2ms/step - loss: 0.3965 - accuracy: 0.8613 - val_loss: 0.4099 - val_accuracy: 0.8563\n",
      "Epoch 11/70\n",
      "797/797 [==============================] - 2s 2ms/step - loss: 0.3885 - accuracy: 0.8640 - val_loss: 0.4081 - val_accuracy: 0.8567\n",
      "Epoch 12/70\n",
      "797/797 [==============================] - 2s 2ms/step - loss: 0.3811 - accuracy: 0.8663 - val_loss: 0.4013 - val_accuracy: 0.8587\n",
      "Epoch 13/70\n",
      "797/797 [==============================] - 2s 2ms/step - loss: 0.3740 - accuracy: 0.8682 - val_loss: 0.3977 - val_accuracy: 0.8611\n",
      "Epoch 14/70\n",
      "797/797 [==============================] - 2s 2ms/step - loss: 0.3680 - accuracy: 0.8712 - val_loss: 0.3975 - val_accuracy: 0.8616\n",
      "Epoch 15/70\n",
      "797/797 [==============================] - 2s 2ms/step - loss: 0.3630 - accuracy: 0.8722 - val_loss: 0.3891 - val_accuracy: 0.8633\n",
      "Epoch 16/70\n",
      "797/797 [==============================] - 2s 2ms/step - loss: 0.3571 - accuracy: 0.8752 - val_loss: 0.3794 - val_accuracy: 0.8650\n",
      "Epoch 17/70\n",
      "797/797 [==============================] - 2s 2ms/step - loss: 0.3515 - accuracy: 0.8763 - val_loss: 0.4039 - val_accuracy: 0.8571\n",
      "Epoch 18/70\n",
      "797/797 [==============================] - 2s 2ms/step - loss: 0.3474 - accuracy: 0.8762 - val_loss: 0.3853 - val_accuracy: 0.8653\n",
      "Epoch 19/70\n",
      "797/797 [==============================] - 2s 3ms/step - loss: 0.3420 - accuracy: 0.8797 - val_loss: 0.3725 - val_accuracy: 0.8687\n",
      "Epoch 20/70\n",
      "797/797 [==============================] - 2s 2ms/step - loss: 0.3374 - accuracy: 0.8802 - val_loss: 0.3726 - val_accuracy: 0.8686\n",
      "Epoch 21/70\n",
      "797/797 [==============================] - 2s 2ms/step - loss: 0.3336 - accuracy: 0.8825 - val_loss: 0.3610 - val_accuracy: 0.8723\n",
      "Epoch 22/70\n",
      "797/797 [==============================] - 2s 2ms/step - loss: 0.3298 - accuracy: 0.8839 - val_loss: 0.3602 - val_accuracy: 0.8752\n",
      "Epoch 23/70\n",
      "797/797 [==============================] - 2s 2ms/step - loss: 0.3264 - accuracy: 0.8846 - val_loss: 0.3590 - val_accuracy: 0.8734\n",
      "Epoch 24/70\n",
      "797/797 [==============================] - 2s 3ms/step - loss: 0.3222 - accuracy: 0.8845 - val_loss: 0.3683 - val_accuracy: 0.8697: 0s - loss: 0.3200 - ac\n",
      "Epoch 25/70\n",
      "797/797 [==============================] - 2s 2ms/step - loss: 0.3187 - accuracy: 0.8867 - val_loss: 0.3579 - val_accuracy: 0.8737\n",
      "Epoch 26/70\n",
      "797/797 [==============================] - 2s 2ms/step - loss: 0.3157 - accuracy: 0.8866 - val_loss: 0.3789 - val_accuracy: 0.8627\n",
      "Epoch 27/70\n",
      "797/797 [==============================] - 2s 2ms/step - loss: 0.3114 - accuracy: 0.8893 - val_loss: 0.3572 - val_accuracy: 0.8730\n",
      "Epoch 28/70\n",
      "797/797 [==============================] - 2s 2ms/step - loss: 0.3084 - accuracy: 0.8900 - val_loss: 0.3527 - val_accuracy: 0.8723\n"
     ]
    }
   ],
   "source": [
    "history = model.fit(\n",
    "    x_train, y_train, epochs=epochs, batch_size=batch_size, callbacks=callbacks, validation_data = (x_dev, y_dev)\n",
    ")"
   ]
  },
  {
   "cell_type": "code",
   "execution_count": 37,
   "metadata": {},
   "outputs": [
    {
     "data": {
      "image/png": "[encoded data removed]",
      "text/plain": [
       "<Figure size 576x432 with 1 Axes>"
      ]
     },
     "metadata": {
      "needs_background": "light"
     },
     "output_type": "display_data"
    }
   ],
   "source": [
    "plt.figure(figsize=(8, 6))\n",
    "plt.plot(history.history['accuracy'])\n",
    "plt.plot(history.history['val_accuracy'])\n",
    "plt.title('Model Accuracy')\n",
    "plt.ylabel('Accuracy')\n",
    "plt.xlabel('Epoch')\n",
    "plt.legend(['train', 'test'], loc='upper left')\n",
    "plt.show()"
   ]
  },
  {
   "cell_type": "code",
   "execution_count": 39,
   "metadata": {},
   "outputs": [
    {
     "name": "stdout",
     "output_type": "stream",
     "text": [
      "0.8665000200271606\n"
     ]
    }
   ],
   "source": [
    "#results of first model on test dataset\n",
    "_, val_accuracy = model.evaluate(x_test,y_test, verbose=0)\n",
    "print(val_accuracy)"
   ]
  },
  {
   "cell_type": "code",
   "execution_count": 41,
   "metadata": {},
   "outputs": [
    {
     "name": "stdout",
     "output_type": "stream",
     "text": [
      "Epoch 1/70\n",
      "797/797 [==============================] - 3s 3ms/step - loss: 0.5207 - accuracy: 0.8176 - val_loss: 0.4125 - val_accuracy: 0.8552\n",
      "Epoch 2/70\n",
      "797/797 [==============================] - 2s 2ms/step - loss: 0.3801 - accuracy: 0.8615 - val_loss: 0.4175 - val_accuracy: 0.8487\n",
      "Epoch 3/70\n",
      "797/797 [==============================] - 2s 2ms/step - loss: 0.3431 - accuracy: 0.8746 - val_loss: 0.3586 - val_accuracy: 0.8741\n",
      "Epoch 4/70\n",
      "797/797 [==============================] - 2s 2ms/step - loss: 0.3193 - accuracy: 0.8822 - val_loss: 0.3365 - val_accuracy: 0.8790\n",
      "Epoch 5/70\n",
      "797/797 [==============================] - 2s 2ms/step - loss: 0.3015 - accuracy: 0.8897 - val_loss: 0.3312 - val_accuracy: 0.8787\n",
      "Epoch 6/70\n",
      "797/797 [==============================] - 2s 2ms/step - loss: 0.2843 - accuracy: 0.8952 - val_loss: 0.3375 - val_accuracy: 0.8772\n",
      "Epoch 7/70\n",
      "797/797 [==============================] - 2s 2ms/step - loss: 0.2727 - accuracy: 0.8988 - val_loss: 0.3507 - val_accuracy: 0.8747\n",
      "Epoch 8/70\n",
      "797/797 [==============================] - 2s 2ms/step - loss: 0.2640 - accuracy: 0.9018 - val_loss: 0.3290 - val_accuracy: 0.8838\n",
      "Epoch 9/70\n",
      "797/797 [==============================] - 2s 2ms/step - loss: 0.2524 - accuracy: 0.9066 - val_loss: 0.3154 - val_accuracy: 0.8882\n",
      "Epoch 10/70\n",
      "797/797 [==============================] - 2s 2ms/step - loss: 0.2413 - accuracy: 0.9096 - val_loss: 0.3182 - val_accuracy: 0.8898\n",
      "Epoch 11/70\n",
      "797/797 [==============================] - 2s 2ms/step - loss: 0.2341 - accuracy: 0.9136 - val_loss: 0.3567 - val_accuracy: 0.8796\n",
      "Epoch 12/70\n",
      "797/797 [==============================] - 2s 2ms/step - loss: 0.2261 - accuracy: 0.9154 - val_loss: 0.3500 - val_accuracy: 0.8882\n",
      "Epoch 13/70\n",
      "797/797 [==============================] - 2s 2ms/step - loss: 0.2170 - accuracy: 0.9195 - val_loss: 0.3549 - val_accuracy: 0.8782\n",
      "Epoch 14/70\n",
      "797/797 [==============================] - 2s 2ms/step - loss: 0.2090 - accuracy: 0.9220 - val_loss: 0.3154 - val_accuracy: 0.8926\n",
      "Epoch 15/70\n",
      "797/797 [==============================] - 2s 2ms/step - loss: 0.2017 - accuracy: 0.9238 - val_loss: 0.3215 - val_accuracy: 0.8884\n",
      "Epoch 16/70\n",
      "797/797 [==============================] - 2s 2ms/step - loss: 0.2001 - accuracy: 0.9252 - val_loss: 0.3452 - val_accuracy: 0.8878\n",
      "Epoch 17/70\n",
      "797/797 [==============================] - 2s 2ms/step - loss: 0.1907 - accuracy: 0.9276 - val_loss: 0.3329 - val_accuracy: 0.8910\n",
      "Epoch 18/70\n",
      "797/797 [==============================] - 2s 2ms/step - loss: 0.1865 - accuracy: 0.9295 - val_loss: 0.3349 - val_accuracy: 0.8877\n",
      "Epoch 19/70\n",
      "797/797 [==============================] - 2s 2ms/step - loss: 0.1808 - accuracy: 0.9324 - val_loss: 0.3521 - val_accuracy: 0.8848\n",
      "Epoch 20/70\n",
      "797/797 [==============================] - 2s 2ms/step - loss: 0.1789 - accuracy: 0.9336 - val_loss: 0.3313 - val_accuracy: 0.8880\n",
      "313/313 [==============================] - 0s 1ms/step - loss: 0.3401 - accuracy: 0.8847\n",
      "Test accuracy is  0.8847000002861023\n"
     ]
    }
   ],
   "source": [
    "#baseline model, 2 hidden layers, 128 & 64 neurons each layers & Adam optimizer\n",
    "model2 = create_model_mlp(num_hidden_layers = 2 ,num_of_neurons=128, activation_hidden=\"relu\", optimizer=tf.keras.optimizers.Adam())\n",
    "history2 = model2.fit(\n",
    "    x_train, y_train, epochs=epochs, batch_size=batch_size, callbacks=callbacks, validation_data = (x_dev, y_dev)\n",
    ")\n",
    "\n",
    "print(\"Test accuracy is \",model2.evaluate(x_test,y_test)[1])\n"
   ]
  },
  {
   "cell_type": "code",
   "execution_count": 42,
   "metadata": {},
   "outputs": [
    {
     "name": "stdout",
     "output_type": "stream",
     "text": [
      "0.8847000002861023\n"
     ]
    }
   ],
   "source": [
    "#results of second model on test dataset\n",
    "_, val_accuracy = model2.evaluate(x_test,y_test, verbose=0)\n",
    "print(val_accuracy)"
   ]
  },
  {
   "cell_type": "markdown",
   "metadata": {},
   "source": [
    "As we observe, Adam optimizer achieves better performance (0.88,4 val accuracy) while taking much less epochs to converge."
   ]
  },
  {
   "cell_type": "code",
   "execution_count": 43,
   "metadata": {},
   "outputs": [
    {
     "name": "stdout",
     "output_type": "stream",
     "text": [
      "Epoch 1/70\n",
      "797/797 [==============================] - 3s 3ms/step - loss: 0.5503 - accuracy: 0.8032 - val_loss: 0.4464 - val_accuracy: 0.8414\n",
      "Epoch 2/70\n",
      "797/797 [==============================] - 2s 3ms/step - loss: 0.3834 - accuracy: 0.8587 - val_loss: 0.4197 - val_accuracy: 0.8421\n",
      "Epoch 3/70\n",
      "797/797 [==============================] - 2s 3ms/step - loss: 0.3458 - accuracy: 0.8723 - val_loss: 0.3720 - val_accuracy: 0.8664\n",
      "Epoch 4/70\n",
      "797/797 [==============================] - 2s 3ms/step - loss: 0.3206 - accuracy: 0.8820 - val_loss: 0.3453 - val_accuracy: 0.8751\n",
      "Epoch 5/70\n",
      "797/797 [==============================] - 2s 3ms/step - loss: 0.3028 - accuracy: 0.8882 - val_loss: 0.3251 - val_accuracy: 0.8812\n",
      "Epoch 6/70\n",
      "797/797 [==============================] - 2s 3ms/step - loss: 0.2881 - accuracy: 0.8923 - val_loss: 0.3317 - val_accuracy: 0.8824\n",
      "Epoch 7/70\n",
      "797/797 [==============================] - 2s 3ms/step - loss: 0.2757 - accuracy: 0.8975 - val_loss: 0.3656 - val_accuracy: 0.8711\n",
      "Epoch 8/70\n",
      "797/797 [==============================] - 2s 3ms/step - loss: 0.2654 - accuracy: 0.9002 - val_loss: 0.3262 - val_accuracy: 0.8828\n",
      "Epoch 9/70\n",
      "797/797 [==============================] - 3s 3ms/step - loss: 0.2539 - accuracy: 0.9050 - val_loss: 0.3236 - val_accuracy: 0.8862\n",
      "Epoch 10/70\n",
      "797/797 [==============================] - 2s 3ms/step - loss: 0.2472 - accuracy: 0.9077 - val_loss: 0.3209 - val_accuracy: 0.8886\n",
      "Epoch 11/70\n",
      "797/797 [==============================] - 2s 3ms/step - loss: 0.2374 - accuracy: 0.9100 - val_loss: 0.3715 - val_accuracy: 0.8720\n",
      "Epoch 12/70\n",
      "797/797 [==============================] - 2s 3ms/step - loss: 0.2295 - accuracy: 0.9128 - val_loss: 0.3848 - val_accuracy: 0.8729\n",
      "Epoch 13/70\n",
      "797/797 [==============================] - 2s 3ms/step - loss: 0.2215 - accuracy: 0.9163 - val_loss: 0.3481 - val_accuracy: 0.8833\n",
      "Epoch 14/70\n",
      "797/797 [==============================] - 2s 3ms/step - loss: 0.2140 - accuracy: 0.9185 - val_loss: 0.3188 - val_accuracy: 0.8920\n",
      "Epoch 15/70\n",
      "797/797 [==============================] - 2s 3ms/step - loss: 0.2084 - accuracy: 0.9204 - val_loss: 0.3149 - val_accuracy: 0.8909\n",
      "Epoch 16/70\n",
      "797/797 [==============================] - 2s 3ms/step - loss: 0.2062 - accuracy: 0.9217 - val_loss: 0.3612 - val_accuracy: 0.8873\n",
      "Epoch 17/70\n",
      "797/797 [==============================] - 2s 3ms/step - loss: 0.1963 - accuracy: 0.9254 - val_loss: 0.3348 - val_accuracy: 0.8881\n",
      "Epoch 18/70\n",
      "797/797 [==============================] - 2s 3ms/step - loss: 0.1893 - accuracy: 0.9271 - val_loss: 0.3480 - val_accuracy: 0.8902\n",
      "Epoch 19/70\n",
      "797/797 [==============================] - 2s 3ms/step - loss: 0.1863 - accuracy: 0.9293 - val_loss: 0.3444 - val_accuracy: 0.8840\n",
      "Epoch 20/70\n",
      "797/797 [==============================] - 2s 3ms/step - loss: 0.1831 - accuracy: 0.9303 - val_loss: 0.3397 - val_accuracy: 0.8884\n"
     ]
    }
   ],
   "source": [
    "#We now try with 5 hidden layers, 128x4 each layer + 64 neurons on last & Adam optimizer\n",
    "model3 = create_model_mlp(num_hidden_layers = 5, num_of_neurons=128, activation_hidden=\"relu\", optimizer=tf.keras.optimizers.Adam())\n",
    "history = model3.fit(\n",
    "    x_train, y_train, epochs=epochs, batch_size=batch_size, callbacks=callbacks, validation_data = (x_dev, y_dev)\n",
    ")"
   ]
  },
  {
   "cell_type": "code",
   "execution_count": 44,
   "metadata": {},
   "outputs": [
    {
     "name": "stdout",
     "output_type": "stream",
     "text": [
      "313/313 [==============================] - 1s 2ms/step - loss: 0.3495 - accuracy: 0.8834\n",
      "0.883400022983551\n"
     ]
    }
   ],
   "source": [
    "_, val_accuracy = model3.evaluate(x_test,y_test)\n",
    "print(val_accuracy)"
   ]
  },
  {
   "cell_type": "code",
   "execution_count": 45,
   "metadata": {},
   "outputs": [
    {
     "name": "stdout",
     "output_type": "stream",
     "text": [
      "the model with 3 extra layers has less val accuracy than the previous with 2 hidden (0.8847000002861023), therefore we discard it\n"
     ]
    }
   ],
   "source": [
    "print(\"the model with 3 extra layers has less val accuracy than the previous with 2 hidden ({}), therefore we discard it\".format(model2.evaluate(x_test,y_test, verbose=0)[1]))"
   ]
  },
  {
   "cell_type": "code",
   "execution_count": 46,
   "metadata": {},
   "outputs": [
    {
     "name": "stdout",
     "output_type": "stream",
     "text": [
      "probability distribution of each class [1.6642143e-07 2.7821756e-10 1.9010091e-07 5.8903180e-09 1.4917086e-08\n",
      " 1.8769913e-04 2.2726576e-07 1.0131042e-02 3.8669551e-08 9.8968059e-01]\n",
      "Model predicts this is Ankle Boot and the true label is Ankle Boot\n"
     ]
    }
   ],
   "source": [
    "predictions = model2.predict(x_test)\n",
    "print(\"probability distribution of each class\", predictions[0]) \n",
    "print(\"Model predicts this is\",label_description.get(np.argmax(predictions[0])), \"and the true label is\", label_description.get(np.argmax(y_test[0])))"
   ]
  },
  {
   "cell_type": "code",
   "execution_count": 49,
   "metadata": {},
   "outputs": [
    {
     "name": "stdout",
     "output_type": "stream",
     "text": [
      "Epoch 1/70\n",
      "797/797 [==============================] - 3s 3ms/step - loss: 0.5497 - accuracy: 0.8070 - val_loss: 0.4247 - val_accuracy: 0.8487\n",
      "Epoch 2/70\n",
      "797/797 [==============================] - 2s 3ms/step - loss: 0.3913 - accuracy: 0.8583 - val_loss: 0.4137 - val_accuracy: 0.8468\n",
      "Epoch 3/70\n",
      "797/797 [==============================] - 2s 3ms/step - loss: 0.3592 - accuracy: 0.8687 - val_loss: 0.3603 - val_accuracy: 0.8686\n",
      "Epoch 4/70\n",
      "797/797 [==============================] - 2s 3ms/step - loss: 0.3346 - accuracy: 0.8781 - val_loss: 0.3458 - val_accuracy: 0.8762\n",
      "Epoch 5/70\n",
      "797/797 [==============================] - 2s 3ms/step - loss: 0.3190 - accuracy: 0.8827 - val_loss: 0.3367 - val_accuracy: 0.8778\n",
      "Epoch 6/70\n",
      "797/797 [==============================] - 2s 3ms/step - loss: 0.3038 - accuracy: 0.8870 - val_loss: 0.3329 - val_accuracy: 0.8813\n",
      "Epoch 7/70\n",
      "797/797 [==============================] - 2s 3ms/step - loss: 0.2929 - accuracy: 0.8907 - val_loss: 0.3358 - val_accuracy: 0.8780\n",
      "Epoch 8/70\n",
      "797/797 [==============================] - 2s 3ms/step - loss: 0.2853 - accuracy: 0.8929 - val_loss: 0.3350 - val_accuracy: 0.8806\n",
      "Epoch 9/70\n",
      "797/797 [==============================] - 2s 2ms/step - loss: 0.2738 - accuracy: 0.8977 - val_loss: 0.3219 - val_accuracy: 0.8820\n",
      "Epoch 10/70\n",
      "797/797 [==============================] - 2s 3ms/step - loss: 0.2648 - accuracy: 0.9016 - val_loss: 0.3288 - val_accuracy: 0.8833\n",
      "Epoch 11/70\n",
      "797/797 [==============================] - 2s 3ms/step - loss: 0.2592 - accuracy: 0.9043 - val_loss: 0.3413 - val_accuracy: 0.8783\n",
      "Epoch 12/70\n",
      "797/797 [==============================] - 3s 3ms/step - loss: 0.2510 - accuracy: 0.9055 - val_loss: 0.3242 - val_accuracy: 0.8877\n",
      "Epoch 13/70\n",
      "797/797 [==============================] - 2s 3ms/step - loss: 0.2469 - accuracy: 0.9068 - val_loss: 0.3288 - val_accuracy: 0.8830\n",
      "Epoch 14/70\n",
      "797/797 [==============================] - 2s 3ms/step - loss: 0.2389 - accuracy: 0.9109 - val_loss: 0.3050 - val_accuracy: 0.8928\n",
      "Epoch 15/70\n",
      "797/797 [==============================] - 2s 3ms/step - loss: 0.2323 - accuracy: 0.9118 - val_loss: 0.3115 - val_accuracy: 0.8920\n",
      "Epoch 16/70\n",
      "797/797 [==============================] - 2s 3ms/step - loss: 0.2310 - accuracy: 0.9140 - val_loss: 0.3379 - val_accuracy: 0.8812\n",
      "Epoch 17/70\n",
      "797/797 [==============================] - 2s 2ms/step - loss: 0.2237 - accuracy: 0.9145 - val_loss: 0.3191 - val_accuracy: 0.8879\n",
      "Epoch 18/70\n",
      "797/797 [==============================] - 2s 2ms/step - loss: 0.2175 - accuracy: 0.9168 - val_loss: 0.3251 - val_accuracy: 0.8852\n",
      "Epoch 19/70\n",
      "797/797 [==============================] - 2s 2ms/step - loss: 0.2146 - accuracy: 0.9182 - val_loss: 0.3224 - val_accuracy: 0.8901\n",
      "Epoch 20/70\n",
      "797/797 [==============================] - 2s 3ms/step - loss: 0.2107 - accuracy: 0.9197 - val_loss: 0.3152 - val_accuracy: 0.8906\n",
      "313/313 [==============================] - 0s 2ms/step - loss: 0.3292 - accuracy: 0.8852\n",
      "Test accuracy is  0.885200023651123\n",
      "This is a tiny improvement over model2, but as dropout regularizes the model we will keep this as our baseline model\n"
     ]
    }
   ],
   "source": [
    "#model with 2 hidden layers (same as model2) but now with dropout\n",
    "model4 = create_model_mlp(num_hidden_layers = 2 ,num_of_neurons=128, activation_hidden=\"relu\", optimizer=tf.keras.optimizers.Adam(), dropout=0.1)\n",
    "history4 = model4.fit(\n",
    "    x_train, y_train, epochs=epochs, batch_size=batch_size, callbacks=callbacks, validation_data = (x_dev, y_dev)\n",
    ")\n",
    "\n",
    "print(\"Test accuracy is \",model4.evaluate(x_test,y_test)[1])\n",
    "print(\"This is a tiny improvement over model2, but as dropout regularizes the model we will keep this as our baseline model\")"
   ]
  },
  {
   "cell_type": "code",
   "execution_count": 50,
   "metadata": {},
   "outputs": [
    {
     "data": {
      "image/png": "[encoded data removed]",
      "text/plain": [
       "<Figure size 576x432 with 1 Axes>"
      ]
     },
     "metadata": {
      "needs_background": "light"
     },
     "output_type": "display_data"
    }
   ],
   "source": [
    "plt.figure(figsize=(8, 6))\n",
    "plt.plot(history4.history['accuracy'])\n",
    "plt.plot(history4.history['val_accuracy'])\n",
    "plt.title('Model Accuracy')\n",
    "plt.ylabel('Accuracy')\n",
    "plt.xlabel('Epoch')\n",
    "plt.legend(['train', 'test'], loc='upper left')\n",
    "plt.show()"
   ]
  },
  {
   "cell_type": "markdown",
   "metadata": {},
   "source": [
    "<h4>CNN's"
   ]
  },
  {
   "cell_type": "code",
   "execution_count": 59,
   "metadata": {},
   "outputs": [],
   "source": [
    "# Reshape training and testing image\n",
    "#we need to reshape your data is that Tensorflow expects a certain input shape for its Deep Learning Model, i.e., in this case, a Convolution Neural Network, specifically\n",
    "#(<number of images>, <image x_dim>, <image y_dim>, <number of channels>)\n",
    "train_X_cnn = x_train.reshape(-1, 28, 28, 1)\n",
    "dev_X_cnn = x_dev.reshape(-1, 28, 28, 1)\n",
    "test_x_cnn = x_test.reshape(-1,28,28,1)"
   ]
  },
  {
   "cell_type": "code",
   "execution_count": 61,
   "metadata": {},
   "outputs": [],
   "source": [
    "model5 = tf.keras.models.Sequential()\n",
    "model5.add(tf.keras.layers.Conv2D(32, (3, 3), activation='relu', input_shape=(28,28,1)))\n",
    "model5.add(tf.keras.layers.MaxPooling2D((2, 2)))\n",
    "model5.add(tf.keras.layers.Conv2D(64, (3, 3), activation='relu'))\n",
    "model5.add(tf.keras.layers.MaxPooling2D((2, 2)))\n",
    "model5.add(tf.keras.layers.Conv2D(64, (3, 3), activation='relu'))\n",
    "model5.add(tf.keras.layers.Flatten())\n",
    "model5.add(tf.keras.layers.Dense(64, activation='relu'))\n",
    "model5.add(tf.keras.layers.Dense(10, activation = \"softmax\"))\n",
    "model5.compile(loss='categorical_crossentropy', optimizer= tf.keras.optimizers.Adam(), metrics=['accuracy'])"
   ]
  },
  {
   "cell_type": "code",
   "execution_count": 62,
   "metadata": {},
   "outputs": [
    {
     "name": "stdout",
     "output_type": "stream",
     "text": [
      "Model: \"sequential_9\"\n",
      "_________________________________________________________________\n",
      " Layer (type)                Output Shape              Param #   \n",
      "=================================================================\n",
      " conv2d_3 (Conv2D)           (None, 26, 26, 32)        320       \n",
      "                                                                 \n",
      " max_pooling2d_2 (MaxPooling  (None, 13, 13, 32)       0         \n",
      " 2D)                                                             \n",
      "                                                                 \n",
      " conv2d_4 (Conv2D)           (None, 11, 11, 64)        18496     \n",
      "                                                                 \n",
      " max_pooling2d_3 (MaxPooling  (None, 5, 5, 64)         0         \n",
      " 2D)                                                             \n",
      "                                                                 \n",
      " conv2d_5 (Conv2D)           (None, 3, 3, 64)          36928     \n",
      "                                                                 \n",
      " flatten_1 (Flatten)         (None, 576)               0         \n",
      "                                                                 \n",
      " dense_30 (Dense)            (None, 64)                36928     \n",
      "                                                                 \n",
      " dense_31 (Dense)            (None, 10)                650       \n",
      "                                                                 \n",
      "=================================================================\n",
      "Total params: 93,322\n",
      "Trainable params: 93,322\n",
      "Non-trainable params: 0\n",
      "_________________________________________________________________\n"
     ]
    }
   ],
   "source": [
    "model5.summary()"
   ]
  },
  {
   "cell_type": "code",
   "execution_count": 63,
   "metadata": {},
   "outputs": [
    {
     "name": "stdout",
     "output_type": "stream",
     "text": [
      "Epoch 1/70\n",
      "797/797 [==============================] - 27s 33ms/step - loss: 0.5994 - accuracy: 0.7793 - val_loss: 0.4039 - val_accuracy: 0.8567\n",
      "Epoch 2/70\n",
      "797/797 [==============================] - 27s 34ms/step - loss: 0.3683 - accuracy: 0.8674 - val_loss: 0.3642 - val_accuracy: 0.8682\n",
      "Epoch 3/70\n",
      "797/797 [==============================] - 25s 31ms/step - loss: 0.3154 - accuracy: 0.8844 - val_loss: 0.3134 - val_accuracy: 0.8883\n",
      "Epoch 4/70\n",
      "797/797 [==============================] - 25s 31ms/step - loss: 0.2828 - accuracy: 0.8968 - val_loss: 0.2953 - val_accuracy: 0.8910\n",
      "Epoch 5/70\n",
      "797/797 [==============================] - 24s 30ms/step - loss: 0.2585 - accuracy: 0.9038 - val_loss: 0.2767 - val_accuracy: 0.8999\n",
      "Epoch 6/70\n",
      "797/797 [==============================] - 25s 32ms/step - loss: 0.2359 - accuracy: 0.9128 - val_loss: 0.2616 - val_accuracy: 0.9062\n",
      "Epoch 7/70\n",
      "797/797 [==============================] - 25s 32ms/step - loss: 0.2179 - accuracy: 0.9190 - val_loss: 0.2681 - val_accuracy: 0.9049\n",
      "Epoch 8/70\n",
      "797/797 [==============================] - 26s 33ms/step - loss: 0.2033 - accuracy: 0.9237 - val_loss: 0.2768 - val_accuracy: 0.9037\n",
      "Epoch 9/70\n",
      "797/797 [==============================] - 26s 32ms/step - loss: 0.1894 - accuracy: 0.9303 - val_loss: 0.2600 - val_accuracy: 0.9097\n",
      "Epoch 10/70\n",
      "797/797 [==============================] - 28s 35ms/step - loss: 0.1735 - accuracy: 0.9355 - val_loss: 0.2736 - val_accuracy: 0.9053\n",
      "Epoch 11/70\n",
      "797/797 [==============================] - 26s 33ms/step - loss: 0.1592 - accuracy: 0.9413 - val_loss: 0.2856 - val_accuracy: 0.9022\n",
      "Epoch 12/70\n",
      "797/797 [==============================] - 22s 28ms/step - loss: 0.1490 - accuracy: 0.9450 - val_loss: 0.2704 - val_accuracy: 0.9069\n",
      "Epoch 13/70\n",
      "797/797 [==============================] - 23s 29ms/step - loss: 0.1362 - accuracy: 0.9496 - val_loss: 0.2871 - val_accuracy: 0.9076\n",
      "Epoch 14/70\n",
      "797/797 [==============================] - 22s 28ms/step - loss: 0.1230 - accuracy: 0.9550 - val_loss: 0.2874 - val_accuracy: 0.9069\n",
      "Epoch 15/70\n",
      "797/797 [==============================] - 22s 28ms/step - loss: 0.1159 - accuracy: 0.9571 - val_loss: 0.2974 - val_accuracy: 0.9137\n",
      "Epoch 16/70\n",
      "797/797 [==============================] - 25s 31ms/step - loss: 0.1055 - accuracy: 0.9601 - val_loss: 0.3063 - val_accuracy: 0.9076\n",
      "Epoch 17/70\n",
      "797/797 [==============================] - 26s 32ms/step - loss: 0.0998 - accuracy: 0.9623 - val_loss: 0.3260 - val_accuracy: 0.9077\n",
      "Epoch 18/70\n",
      "797/797 [==============================] - 24s 30ms/step - loss: 0.0884 - accuracy: 0.9671 - val_loss: 0.3617 - val_accuracy: 0.9037\n",
      "Epoch 19/70\n",
      "797/797 [==============================] - 25s 32ms/step - loss: 0.0831 - accuracy: 0.9698 - val_loss: 0.3459 - val_accuracy: 0.9057\n",
      "Epoch 20/70\n",
      "797/797 [==============================] - 25s 32ms/step - loss: 0.0782 - accuracy: 0.9702 - val_loss: 0.3715 - val_accuracy: 0.9059\n",
      "Epoch 21/70\n",
      "797/797 [==============================] - 25s 32ms/step - loss: 0.0725 - accuracy: 0.9727 - val_loss: 0.3886 - val_accuracy: 0.9063\n"
     ]
    }
   ],
   "source": [
    "history5 = model5.fit(\n",
    "    train_X_cnn, y_train, epochs=epochs, batch_size=batch_size, callbacks=callbacks, validation_data = (dev_X_cnn, y_dev)\n",
    ")"
   ]
  },
  {
   "cell_type": "code",
   "execution_count": 64,
   "metadata": {},
   "outputs": [
    {
     "name": "stdout",
     "output_type": "stream",
     "text": [
      "0.9133999943733215\n"
     ]
    }
   ],
   "source": [
    "_, val_accuracy = model5.evaluate(test_x_cnn,y_test, verbose=0)\n",
    "print(val_accuracy)"
   ]
  },
  {
   "cell_type": "code",
   "execution_count": 65,
   "metadata": {},
   "outputs": [],
   "source": [
    "#final CNN (same as before) but with dropout \n",
    "\n",
    "model6 = tf.keras.models.Sequential()\n",
    "model6.add(tf.keras.layers.Conv2D(32, (3, 3), activation='relu', input_shape=(28,28,1)))\n",
    "model6.add(tf.keras.layers.MaxPooling2D((2, 2)))\n",
    "model6.add(tf.keras.layers.Dropout(0.2))\n",
    "model6.add(tf.keras.layers.Conv2D(64, (3, 3), activation='relu'))\n",
    "model6.add(tf.keras.layers.MaxPooling2D((2, 2)))\n",
    "model6.add(tf.keras.layers.Dropout(0.2))\n",
    "model6.add(tf.keras.layers.Conv2D(64, (3, 3), activation='relu'))\n",
    "model6.add(tf.keras.layers.Flatten())\n",
    "model6.add(tf.keras.layers.Dense(64, activation='relu'))\n",
    "model6.add(tf.keras.layers.Dense(10, activation = \"softmax\"))\n",
    "model6.compile(loss='categorical_crossentropy', optimizer= tf.keras.optimizers.Adam(), metrics=['accuracy'])"
   ]
  },
  {
   "cell_type": "code",
   "execution_count": 67,
   "metadata": {},
   "outputs": [
    {
     "name": "stdout",
     "output_type": "stream",
     "text": [
      "Epoch 1/70\n",
      "797/797 [==============================] - 29s 37ms/step - loss: 0.4694 - accuracy: 0.8285 - val_loss: 0.3849 - val_accuracy: 0.8617\n",
      "Epoch 2/70\n",
      "797/797 [==============================] - 28s 35ms/step - loss: 0.3718 - accuracy: 0.8649 - val_loss: 0.3274 - val_accuracy: 0.8808\n",
      "Epoch 3/70\n",
      "797/797 [==============================] - 30s 38ms/step - loss: 0.3267 - accuracy: 0.8800 - val_loss: 0.3055 - val_accuracy: 0.8893\n",
      "Epoch 4/70\n",
      "797/797 [==============================] - 29s 37ms/step - loss: 0.3017 - accuracy: 0.8895 - val_loss: 0.2939 - val_accuracy: 0.8942\n",
      "Epoch 5/70\n",
      "797/797 [==============================] - 29s 37ms/step - loss: 0.2827 - accuracy: 0.8948 - val_loss: 0.2701 - val_accuracy: 0.9019\n",
      "Epoch 6/70\n",
      "797/797 [==============================] - 30s 37ms/step - loss: 0.2642 - accuracy: 0.9020 - val_loss: 0.2579 - val_accuracy: 0.9049\n",
      "Epoch 7/70\n",
      "797/797 [==============================] - 30s 37ms/step - loss: 0.2497 - accuracy: 0.9076 - val_loss: 0.2560 - val_accuracy: 0.9059\n",
      "Epoch 8/70\n",
      "797/797 [==============================] - 30s 37ms/step - loss: 0.2437 - accuracy: 0.9087 - val_loss: 0.2662 - val_accuracy: 0.8999\n",
      "Epoch 9/70\n",
      "797/797 [==============================] - 31s 39ms/step - loss: 0.2330 - accuracy: 0.9131 - val_loss: 0.2455 - val_accuracy: 0.9082\n",
      "Epoch 10/70\n",
      "797/797 [==============================] - 30s 38ms/step - loss: 0.2250 - accuracy: 0.9169 - val_loss: 0.2522 - val_accuracy: 0.9066\n",
      "Epoch 11/70\n",
      "797/797 [==============================] - 29s 37ms/step - loss: 0.2170 - accuracy: 0.9181 - val_loss: 0.2392 - val_accuracy: 0.9120\n",
      "Epoch 12/70\n",
      "797/797 [==============================] - 29s 37ms/step - loss: 0.2099 - accuracy: 0.9214 - val_loss: 0.2357 - val_accuracy: 0.9133\n",
      "Epoch 13/70\n",
      "797/797 [==============================] - 30s 37ms/step - loss: 0.2034 - accuracy: 0.9230 - val_loss: 0.2366 - val_accuracy: 0.9127\n",
      "Epoch 14/70\n",
      "797/797 [==============================] - 30s 37ms/step - loss: 0.1977 - accuracy: 0.9247 - val_loss: 0.2354 - val_accuracy: 0.9144\n",
      "Epoch 15/70\n",
      "797/797 [==============================] - 30s 38ms/step - loss: 0.1927 - accuracy: 0.9270 - val_loss: 0.2393 - val_accuracy: 0.9166\n",
      "Epoch 16/70\n",
      "797/797 [==============================] - 30s 37ms/step - loss: 0.1863 - accuracy: 0.9301 - val_loss: 0.2447 - val_accuracy: 0.9096\n",
      "Epoch 17/70\n",
      "797/797 [==============================] - 28s 36ms/step - loss: 0.1804 - accuracy: 0.9326 - val_loss: 0.2373 - val_accuracy: 0.9147\n",
      "Epoch 18/70\n",
      "797/797 [==============================] - 28s 36ms/step - loss: 0.1766 - accuracy: 0.9323 - val_loss: 0.2394 - val_accuracy: 0.9109\n",
      "Epoch 19/70\n",
      "797/797 [==============================] - 28s 36ms/step - loss: 0.1734 - accuracy: 0.9342 - val_loss: 0.2491 - val_accuracy: 0.9101\n",
      "Epoch 20/70\n",
      "797/797 [==============================] - 28s 36ms/step - loss: 0.1711 - accuracy: 0.9351 - val_loss: 0.2463 - val_accuracy: 0.9124\n",
      "Epoch 21/70\n",
      "797/797 [==============================] - 29s 37ms/step - loss: 0.1677 - accuracy: 0.9357 - val_loss: 0.2434 - val_accuracy: 0.9137\n",
      "0.9139999747276306\n"
     ]
    }
   ],
   "source": [
    "history6 = model6.fit(\n",
    "    train_X_cnn, y_train, epochs=epochs, batch_size=batch_size, callbacks=callbacks, validation_data = (dev_X_cnn, y_dev)\n",
    ")\n",
    "_, val_accuracy = model6.evaluate(test_x_cnn,y_test, verbose=0)\n",
    "print(val_accuracy)"
   ]
  },
  {
   "cell_type": "markdown",
   "metadata": {},
   "source": [
    "The model6 has almost identical accuracy on test dataset with model5, yet because it used regularization we will use it as our final model."
   ]
  },
  {
   "cell_type": "code",
   "execution_count": 21,
   "metadata": {},
   "outputs": [],
   "source": [
    "def plot_image(i, predictions_array, true_label, img):\n",
    "  true_label, img = true_label[i], img[i]\n",
    "  plt.grid(False)\n",
    "  plt.xticks([])\n",
    "  plt.yticks([])\n",
    "\n",
    "  plt.imshow(img, cmap=plt.cm.binary)\n",
    "\n",
    "  predicted_label = np.argmax(predictions_array)\n",
    "  if predicted_label == true_label:\n",
    "    color = 'blue'\n",
    "  else:\n",
    "    color = 'red'\n",
    "\n",
    "  plt.xlabel(\"{} {:2.0f}% ({})\".format(class_names[predicted_label],\n",
    "                                100*np.max(predictions_array),\n",
    "                                class_names[true_label]),\n",
    "                                color=color)\n",
    "\n",
    "def plot_value_array(i, predictions_array, true_label):\n",
    "  true_label = true_label[i]\n",
    "  plt.grid(False)\n",
    "  plt.xticks(range(10))\n",
    "  plt.yticks([])\n",
    "  thisplot = plt.bar(range(10), predictions_array, color=\"#777777\")\n",
    "  plt.ylim([0, 1])\n",
    "  predicted_label = np.argmax(predictions_array)\n",
    "\n",
    "  thisplot[predicted_label].set_color('red')\n",
    "  thisplot[true_label].set_color('blue')"
   ]
  },
  {
   "cell_type": "code",
   "execution_count": 22,
   "metadata": {},
   "outputs": [
    {
     "ename": "ValueError",
     "evalue": "The truth value of an array with more than one element is ambiguous. Use a.any() or a.all()",
     "output_type": "error",
     "traceback": [
      "\u001b[1;31m---------------------------------------------------------------------------\u001b[0m",
      "\u001b[1;31mValueError\u001b[0m                                Traceback (most recent call last)",
      "\u001b[1;32m~\\AppData\\Local\\Temp/ipykernel_2132/2030006600.py\u001b[0m in \u001b[0;36m<module>\u001b[1;34m\u001b[0m\n\u001b[0;32m      2\u001b[0m \u001b[0mplt\u001b[0m\u001b[1;33m.\u001b[0m\u001b[0mfigure\u001b[0m\u001b[1;33m(\u001b[0m\u001b[0mfigsize\u001b[0m\u001b[1;33m=\u001b[0m\u001b[1;33m(\u001b[0m\u001b[1;36m6\u001b[0m\u001b[1;33m,\u001b[0m\u001b[1;36m3\u001b[0m\u001b[1;33m)\u001b[0m\u001b[1;33m)\u001b[0m\u001b[1;33m\u001b[0m\u001b[1;33m\u001b[0m\u001b[0m\n\u001b[0;32m      3\u001b[0m \u001b[0mplt\u001b[0m\u001b[1;33m.\u001b[0m\u001b[0msubplot\u001b[0m\u001b[1;33m(\u001b[0m\u001b[1;36m1\u001b[0m\u001b[1;33m,\u001b[0m\u001b[1;36m2\u001b[0m\u001b[1;33m,\u001b[0m\u001b[1;36m1\u001b[0m\u001b[1;33m)\u001b[0m\u001b[1;33m\u001b[0m\u001b[1;33m\u001b[0m\u001b[0m\n\u001b[1;32m----> 4\u001b[1;33m \u001b[0mplot_image\u001b[0m\u001b[1;33m(\u001b[0m\u001b[0mi\u001b[0m\u001b[1;33m,\u001b[0m \u001b[0mpredictions\u001b[0m\u001b[1;33m[\u001b[0m\u001b[0mi\u001b[0m\u001b[1;33m]\u001b[0m\u001b[1;33m,\u001b[0m \u001b[0my_test\u001b[0m\u001b[1;33m,\u001b[0m \u001b[0mx_test\u001b[0m\u001b[1;33m.\u001b[0m\u001b[0mreshape\u001b[0m\u001b[1;33m(\u001b[0m\u001b[1;36m10000\u001b[0m\u001b[1;33m,\u001b[0m\u001b[1;36m28\u001b[0m\u001b[1;33m,\u001b[0m\u001b[1;36m28\u001b[0m\u001b[1;33m)\u001b[0m\u001b[1;33m)\u001b[0m\u001b[1;33m\u001b[0m\u001b[1;33m\u001b[0m\u001b[0m\n\u001b[0m\u001b[0;32m      5\u001b[0m \u001b[0mplt\u001b[0m\u001b[1;33m.\u001b[0m\u001b[0msubplot\u001b[0m\u001b[1;33m(\u001b[0m\u001b[1;36m1\u001b[0m\u001b[1;33m,\u001b[0m\u001b[1;36m2\u001b[0m\u001b[1;33m,\u001b[0m\u001b[1;36m2\u001b[0m\u001b[1;33m)\u001b[0m\u001b[1;33m\u001b[0m\u001b[1;33m\u001b[0m\u001b[0m\n\u001b[0;32m      6\u001b[0m \u001b[0mplot_value_array\u001b[0m\u001b[1;33m(\u001b[0m\u001b[0mi\u001b[0m\u001b[1;33m,\u001b[0m \u001b[0mpredictions\u001b[0m\u001b[1;33m[\u001b[0m\u001b[0mi\u001b[0m\u001b[1;33m]\u001b[0m\u001b[1;33m,\u001b[0m  \u001b[0my_test\u001b[0m\u001b[1;33m)\u001b[0m\u001b[1;33m\u001b[0m\u001b[1;33m\u001b[0m\u001b[0m\n",
      "\u001b[1;32m~\\AppData\\Local\\Temp/ipykernel_2132/1987700368.py\u001b[0m in \u001b[0;36mplot_image\u001b[1;34m(i, predictions_array, true_label, img)\u001b[0m\n\u001b[0;32m      8\u001b[0m \u001b[1;33m\u001b[0m\u001b[0m\n\u001b[0;32m      9\u001b[0m   \u001b[0mpredicted_label\u001b[0m \u001b[1;33m=\u001b[0m \u001b[0mnp\u001b[0m\u001b[1;33m.\u001b[0m\u001b[0margmax\u001b[0m\u001b[1;33m(\u001b[0m\u001b[0mpredictions_array\u001b[0m\u001b[1;33m)\u001b[0m\u001b[1;33m\u001b[0m\u001b[1;33m\u001b[0m\u001b[0m\n\u001b[1;32m---> 10\u001b[1;33m   \u001b[1;32mif\u001b[0m \u001b[0mpredicted_label\u001b[0m \u001b[1;33m==\u001b[0m \u001b[0mtrue_label\u001b[0m\u001b[1;33m:\u001b[0m\u001b[1;33m\u001b[0m\u001b[1;33m\u001b[0m\u001b[0m\n\u001b[0m\u001b[0;32m     11\u001b[0m     \u001b[0mcolor\u001b[0m \u001b[1;33m=\u001b[0m \u001b[1;34m'blue'\u001b[0m\u001b[1;33m\u001b[0m\u001b[1;33m\u001b[0m\u001b[0m\n\u001b[0;32m     12\u001b[0m   \u001b[1;32melse\u001b[0m\u001b[1;33m:\u001b[0m\u001b[1;33m\u001b[0m\u001b[1;33m\u001b[0m\u001b[0m\n",
      "\u001b[1;31mValueError\u001b[0m: The truth value of an array with more than one element is ambiguous. Use a.any() or a.all()"
     ]
    },
    {
     "data": {
      "image/png": "[encoded data removed]",
      "text/plain": [
       "<Figure size 432x216 with 1 Axes>"
      ]
     },
     "metadata": {},
     "output_type": "display_data"
    }
   ],
   "source": [
    "i = 0\n",
    "plt.figure(figsize=(6,3))\n",
    "plt.subplot(1,2,1)\n",
    "plot_image(i, predictions[i], y_test, x_test.reshape(10000,28,28))\n",
    "plt.subplot(1,2,2)\n",
    "plot_value_array(i, predictions[i],  y_test)\n",
    "plt.show()"
   ]
  },
  {
   "cell_type": "code",
   "execution_count": null,
   "metadata": {},
   "outputs": [],
   "source": []
  }
 ],
 "metadata": {
  "interpreter": {
   "hash": "697a9b082ea1da0baca53618b83ff9ac95e2f2c56db53261fa2a7ee24860c788"
  },
  "kernelspec": {
   "display_name": "Python 3.9.7 ('tf')",
   "language": "python",
   "name": "python3"
  },
  "language_info": {
   "codemirror_mode": {
    "name": "ipython",
    "version": 3
   },
   "file_extension": ".py",
   "mimetype": "text/x-python",
   "name": "python",
   "nbconvert_exporter": "python",
   "pygments_lexer": "ipython3",
   "version": "3.9.7"
  },
  "orig_nbformat": 4
 },
 "nbformat": 4,
 "nbformat_minor": 2
}
